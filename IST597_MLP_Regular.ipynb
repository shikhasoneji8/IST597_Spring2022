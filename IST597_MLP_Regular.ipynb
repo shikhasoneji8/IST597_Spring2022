{
  "nbformat": 4,
  "nbformat_minor": 0,
  "metadata": {
    "colab": {
      "name": "IST597_MLP_Regular.ipynb",
      "provenance": [],
      "collapsed_sections": []
    },
    "kernelspec": {
      "name": "python3",
      "display_name": "Python 3"
    },
    "accelerator": "GPU"
  },
  "cells": [
    {
      "cell_type": "markdown",
      "metadata": {
        "id": "view-in-github"
      },
      "source": [
        "<a href=\"https://colab.research.google.com/github/AnkurMali/IST597_Spring_2022/blob/main/IST597_MLP_collab.ipynb\" target=\"_parent\"><img src=\"https://colab.research.google.com/assets/colab-badge.svg\" alt=\"Open In Colab\"/></a>"
      ]
    },
    {
      "cell_type": "markdown",
      "metadata": {
        "id": "71kdFp0QgF4K"
      },
      "source": [
        "# IST597:- Multi-Layer Perceptron"
      ]
    },
    {
      "cell_type": "markdown",
      "metadata": {
        "id": "C2yHcl5xgPV1"
      },
      "source": [
        "## Load the libraries"
      ]
    },
    {
      "cell_type": "code",
      "metadata": {
        "id": "2DPwxLR2gSLC"
      },
      "source": [
        "import os\n",
        "import numpy as np\n",
        "from sklearn.metrics import roc_auc_score, accuracy_score\n",
        "import keras\n",
        "import time\n",
        "import math\n",
        "import tensorflow as tf\n",
        "import torch.nn as nn\n",
        "from keras.datasets import fashion_mnist\n",
        "from numpy import sqrt\n",
        "\n",
        "seed=97238684\n",
        "np.random.seed(seed)\n",
        "tf.random.set_seed(seed)\n",
        "# np.random.seed(1234)\n",
        "# tf.random.set_seed(1234)\n",
        "from sklearn.model_selection import train_test_split\n"
      ],
      "execution_count": null,
      "outputs": []
    },
    {
      "cell_type": "code",
      "metadata": {
        "id": "wV-3kEaggcO8",
        "colab": {
          "base_uri": "https://localhost:8080/"
        },
        "outputId": "2c2fe132-46c8-4b37-aae6-e82ac5a93eba"
      },
      "source": [
        "tf.config.list_physical_devices('GPU')"
      ],
      "execution_count": null,
      "outputs": [
        {
          "output_type": "execute_result",
          "data": {
            "text/plain": [
              "[PhysicalDevice(name='/physical_device:GPU:0', device_type='GPU')]"
            ]
          },
          "metadata": {},
          "execution_count": 2
        }
      ]
    },
    {
      "cell_type": "markdown",
      "source": [
        "Define the input, output and hidden layer sizes\n"
      ],
      "metadata": {
        "id": "xb2WcNmV5-pR"
      }
    },
    {
      "cell_type": "code",
      "metadata": {
        "id": "40XlFnwho7D8"
      },
      "source": [
        "size_input = 784\n",
        "size_hidden1 = 512\n",
        "size_hidden2 = 256\n",
        "size_hidden3 = 128\n",
        "size_output = 10\n",
        "starter_learning_rate = 0.001\n",
        "regularizer_rate = 0.1\n"
      ],
      "execution_count": null,
      "outputs": []
    },
    {
      "cell_type": "markdown",
      "source": [
        "#Load the MNIST dataset and define train, test and validation sets"
      ],
      "metadata": {
        "id": "KQ7xdM7L6TbB"
      }
    },
    {
      "cell_type": "code",
      "source": [
        "train_ratio = 0.80\n",
        "validation_ratio = 0.10\n",
        "test_ratio = 0.10\n",
        "\n",
        "(X_train, y_train), (X_test, y_test) = tf.keras.datasets.mnist.load_data()\n",
        "X = np.concatenate([X_train, X_test])\n",
        "y = np.concatenate([y_train, y_test])\n",
        "\n",
        "X_train, X_val, y_train, y_val = train_test_split(X, y, test_size=(1-train_ratio))\n",
        "X_val, X_test, y_val, y_test = train_test_split(X_val, y_val, test_size=((test_ratio/(validation_ratio+test_ratio))))\n",
        "\n",
        "X_train.shape"
      ],
      "metadata": {
        "colab": {
          "base_uri": "https://localhost:8080/"
        },
        "id": "XTQoYKheokJe",
        "outputId": "ea9efa48-9425-4954-ba1f-df8c9fd24fa1"
      },
      "execution_count": null,
      "outputs": [
        {
          "output_type": "execute_result",
          "data": {
            "text/plain": [
              "(56000, 28, 28)"
            ]
          },
          "metadata": {},
          "execution_count": 4
        }
      ]
    },
    {
      "cell_type": "markdown",
      "source": [
        "#Load the FMNIST dataset and define train, test and validation sets"
      ],
      "metadata": {
        "id": "XkjF_wMO7wvh"
      }
    },
    {
      "cell_type": "code",
      "source": [
        "\n",
        "(Xtrain_fmnist, ytrain_fmnist), (Xtest_fmnist, ytest_fmnist) = fashion_mnist.load_data()\n",
        "X_fmnist = np.concatenate([Xtrain_fmnist, Xtest_fmnist])\n",
        "y_fmnist = np.concatenate([ytrain_fmnist, ytest_fmnist])\n",
        "\n",
        "Xtrain_fmnist, X_val_fmnist, ytrain_fmnist, y_val_fmnist = train_test_split(X_fmnist, y_fmnist, test_size=(1-train_ratio))\n",
        "X_val_fmnist, Xtest_fmnist, y_val_fmnist, ytest_fmnist = train_test_split(X_val_fmnist, y_val_fmnist, test_size=((test_ratio/(validation_ratio+test_ratio))))"
      ],
      "metadata": {
        "id": "LbYYMC4oKS4Y"
      },
      "execution_count": null,
      "outputs": []
    },
    {
      "cell_type": "markdown",
      "source": [
        "#Reshape the train, test and validation sets (MNIST)"
      ],
      "metadata": {
        "id": "GYCjFzjT6ZCd"
      }
    },
    {
      "cell_type": "code",
      "source": [
        "\n",
        "# (X_train, y_train), (X_test, y_test) = fashion_mnist.load_data()\n",
        "X_train = np.reshape(X_train, (56000, 784))\n",
        "X_test = np.reshape(X_test, (-1, 784))\n",
        "X_train = X_train.astype(float) / 255\n",
        "X_test = X_test.astype(float) / 255\n",
        "X_val = np.reshape(X_val, (7000,784))\n",
        "X_val=X_val/255.0\n",
        "X_val=tf.cast(X_val,dtype=tf.float32)\n",
        "y_train = tf.one_hot(y_train,10)\n",
        "y_test = tf.one_hot(y_test,10)"
      ],
      "metadata": {
        "id": "QTSjERuunupa"
      },
      "execution_count": null,
      "outputs": []
    },
    {
      "cell_type": "markdown",
      "source": [
        "#Reshape the train, test and validation sets (FMNIST)"
      ],
      "metadata": {
        "id": "5mOBLp8L75QX"
      }
    },
    {
      "cell_type": "code",
      "source": [
        "Xtrain_fmnist = np.reshape(X_train, (56000, 784))\n",
        "Xtest_fmnist = np.reshape(X_test, (-1, 784))\n",
        "Xtrain_fmnist = Xtrain_fmnist.astype(float) / 255\n",
        "Xtest_fmnist = Xtest_fmnist.astype(float) / 255\n",
        "X_val_fmnist = np.reshape(X_val_fmnist, (7000,784))\n",
        "X_val_fmnist=X_val_fmnist.astype(float) /255.0\n",
        "ytrain_fmnist = tf.one_hot(ytrain_fmnist,10)\n",
        "ytest_fmnist = tf.one_hot(ytest_fmnist,10)"
      ],
      "metadata": {
        "id": "RkHsZLoAKyPc"
      },
      "execution_count": null,
      "outputs": []
    },
    {
      "cell_type": "code",
      "metadata": {
        "id": "qm23CzRihaW0",
        "colab": {
          "base_uri": "https://localhost:8080/"
        },
        "outputId": "72a6ba14-d372-48be-a344-fc8dc89eec41"
      },
      "source": [
        "print(X_train.shape, y_train.shape)\n",
        "print(Xtrain_fmnist.shape, ytrain_fmnist.shape)"
      ],
      "execution_count": null,
      "outputs": [
        {
          "output_type": "stream",
          "name": "stdout",
          "text": [
            "(56000, 784) (56000, 10)\n",
            "(56000, 784) (56000, 10)\n"
          ]
        }
      ]
    },
    {
      "cell_type": "code",
      "source": [
        "print(\"y_train: \",y_train)\n",
        "print(\"y_val: \",y_val)\n",
        "print(\"y_test: \",y_test)"
      ],
      "metadata": {
        "colab": {
          "base_uri": "https://localhost:8080/"
        },
        "id": "uhDAOL_VhahJ",
        "outputId": "3651b5ff-a02f-4241-c5ca-a58ff9d832fe"
      },
      "execution_count": null,
      "outputs": [
        {
          "output_type": "stream",
          "name": "stdout",
          "text": [
            "y_train:  tf.Tensor(\n",
            "[[0. 0. 0. ... 0. 0. 0.]\n",
            " [0. 0. 1. ... 0. 0. 0.]\n",
            " [0. 0. 1. ... 0. 0. 0.]\n",
            " ...\n",
            " [0. 0. 1. ... 0. 0. 0.]\n",
            " [0. 0. 0. ... 1. 0. 0.]\n",
            " [0. 0. 0. ... 0. 0. 1.]], shape=(56000, 10), dtype=float32)\n",
            "y_val:  [4 2 6 ... 6 2 5]\n",
            "y_test:  tf.Tensor(\n",
            "[[0. 1. 0. ... 0. 0. 0.]\n",
            " [0. 0. 0. ... 0. 1. 0.]\n",
            " [0. 0. 0. ... 0. 0. 0.]\n",
            " ...\n",
            " [0. 0. 0. ... 0. 0. 0.]\n",
            " [0. 0. 0. ... 1. 0. 0.]\n",
            " [0. 0. 0. ... 0. 0. 1.]], shape=(7000, 10), dtype=float32)\n"
          ]
        }
      ]
    },
    {
      "cell_type": "code",
      "metadata": {
        "id": "aigqKFFF5BM2"
      },
      "source": [
        "# Split MNIST dataset into batches\n",
        "train_ds = tf.data.Dataset.from_tensor_slices((X_train, y_train)).batch(16)\n",
        "test_ds = tf.data.Dataset.from_tensor_slices((X_test, y_test)).batch(4)\n",
        "val_ds = tf.data.Dataset.from_tensor_slices((X_val, y_val)).batch(2)"
      ],
      "execution_count": null,
      "outputs": []
    },
    {
      "cell_type": "code",
      "source": [
        "# Split FMNIST dataset into batches\n",
        "train_ds_fmnist = tf.data.Dataset.from_tensor_slices((Xtrain_fmnist, ytrain_fmnist)).batch(16)\n",
        "test_ds_fmnist = tf.data.Dataset.from_tensor_slices((Xtest_fmnist, ytest_fmnist)).batch(4)\n",
        "val_ds_fmnist = tf.data.Dataset.from_tensor_slices((X_val_fmnist, y_val_fmnist)).batch(2)"
      ],
      "metadata": {
        "id": "sta64VcTK-5n"
      },
      "execution_count": null,
      "outputs": []
    },
    {
      "cell_type": "markdown",
      "metadata": {
        "id": "Eb4hOoVbnzSJ"
      },
      "source": [
        "## Build MLP using Eager Execution without Regularization"
      ]
    },
    {
      "cell_type": "code",
      "metadata": {
        "id": "Ht9_qpYipgHw"
      },
      "source": [
        "# Define class to build mlp model\n",
        "class MLP(object):\n",
        "  def __init__(self, size_input, size_hidden1, size_hidden2, size_hidden3, size_output, device=None):\n",
        "    \"\"\"\n",
        "    size_input: int, size of input layer\n",
        "    size_hidden: int, size of hidden layer\n",
        "    size_output: int, size of output layer\n",
        "    device: str or None, either 'cpu' or 'gpu' or None. If None, the device to be used will be decided automatically during Eager Execution\n",
        "    \"\"\"\n",
        "    self.size_input, self.size_hidden1, self.size_hidden2, self.size_hidden3, self.size_output, self.device =\\\n",
        "    size_input, size_hidden1, size_hidden2, size_hidden3, size_output, device \n",
        "    \n",
        "    # Initialize weights between input layer and hidden layer\n",
        "    self.W1 = tf.Variable(tf.random.normal([self.size_input, self.size_hidden1]))\n",
        "    # Initialize weights between hidden layers\n",
        "    self.W_h1 = tf.Variable(tf.random.normal([self.size_hidden1, self.size_hidden2]))\n",
        "    # Initialize biases for hidden layer\n",
        "    self.b1 = tf.Variable(tf.random.normal([1, self.size_hidden1]))\n",
        "     # Initialize weights between hidden layers\n",
        "    self.W_h2 = tf.Variable(tf.random.normal([self.size_hidden2, self.size_hidden3]))\n",
        "    # Initialize weights between hidden layer and output layer\n",
        "    self.W2 = tf.Variable(tf.random.normal([self.size_hidden3, self.size_output]))\n",
        "    # Initialize biases for output layer\n",
        "    self.b2 = tf.Variable(tf.random.normal([1, self.size_hidden2]))\n",
        "    self.b3 = tf.Variable(tf.random.normal([1, self.size_hidden3]))\n",
        "    self.b4 = tf.Variable(tf.random.normal([1, self.size_output]))\n",
        "    # Define variables to be updated during backpropagation\n",
        "    self.variables = [self.W1, self.W_h1, self.W_h2, self.W2, self.b1, self.b2, self.b3, self.b4]\n",
        "\n",
        "\n",
        "        \n",
        "  def forward(self, X):\n",
        "    \"\"\"\n",
        "    forward pass\n",
        "    X: Tensor, inputs\n",
        "    \"\"\"\n",
        "    if self.device is not None:\n",
        "      with tf.device('gpu:0' if self.device=='gpu' else 'cpu'):\n",
        "        self.y = self.compute_output(X)\n",
        "    else:\n",
        "      self.y = self.compute_output(X)\n",
        "      \n",
        "    return self.y\n",
        "\n",
        "\n",
        "  def loss(self, y_pred, y_true):\n",
        "    '''\n",
        "    y_pred - Tensor of shape (batch_size, size_output)\n",
        "    y_true - Tensor of shape (batch_size, size_output)\n",
        "    '''\n",
        "    y_true_tf = tf.cast(tf.reshape(y_true, (-1, self.size_output)), dtype=tf.float32)\n",
        "    y_pred_tf = tf.cast(y_pred, dtype=tf.float32)\n",
        "    # loss = tf.reduce_mean(tf.nn.softmax_cross_entropy_with_logits(logits=y_pred,labels=y_true)) \\\n",
        "    #     + regularizer_rate*(tf.reduce_sum(tf.square(self.b1)) + tf.reduce_sum(tf.square(self.b2)) + \\\n",
        "    #                         tf.reduce_sum(tf.square(self.b3)) + tf.reduce_sum(tf.square(self.b4)) + \\\n",
        "    #                         tf.nn.l2_loss(self.W1) + tf.nn.l2_loss(self.W_h1) + tf.nn.l2_loss(self.W_h2) + tf.nn.l2_loss(self.W2) )\n",
        "    return tf.reduce_mean(tf.nn.softmax_cross_entropy_with_logits(logits=y_pred,labels=y_true))\n",
        "    \n",
        "    # return loss\n",
        "    \n",
        "\n",
        "\n",
        "  def backward(self, X_train, y_train):\n",
        "    \"\"\"\n",
        "    backward pass\n",
        "    \"\"\"\n",
        "    optimizer = tf.keras.optimizers.SGD(learning_rate=1e-4)\n",
        "    # optimizer = tf.train.AdamOptimizer(learning_rate=learning_rate).minimize(cost)\n",
        "    # optimizer = tf.keras.optimizers.Adam(\n",
        "    # learning_rate=0.001, epsilon=1e-07, amsgrad=False,\n",
        "    # name='Adam')\n",
        "    with tf.GradientTape() as tape:\n",
        "      predicted = self.forward(X_train)\n",
        "      current_loss = self.loss(predicted, y_train)\n",
        "    grads = tape.gradient(current_loss, self.variables)\n",
        "    optimizer.apply_gradients(zip(grads, self.variables))\n",
        "\n",
        "\n",
        "  def compute_output(self, X):\n",
        "    \"\"\"\n",
        "    Custom method to obtain output tensor during forward pass\n",
        "    \"\"\"\n",
        "    # Cast X to float32\n",
        "    X_tf = tf.cast(X, dtype=tf.float32)\n",
        "    #Remember to normalize your dataset before moving forward\n",
        "    \n",
        "    # Compute values in hidden layer\n",
        "    what_i = tf.matmul(X_tf, self.W1) + self.b1\n",
        "    hhat_i = tf.nn.relu(what_i)\n",
        "    what_h1 = tf.matmul(hhat_i, self.W_h1) + self.b2\n",
        "    hhat_h1 = tf.nn.relu(what_h1)\n",
        "    what_h2 = tf.matmul(hhat_h1, self.W_h2) + self.b3\n",
        "    hhat_h2 = tf.nn.relu(what_h2)\n",
        "    what_out = tf.matmul(hhat_h2, self.W2) + self.b4\n",
        "    hhat = tf.nn.relu(what_out)\n",
        "    # Compute output\n",
        "    output_i = tf.matmul(hhat_i, self.W_h1) + self.b2\n",
        "    output_h1 = tf.matmul(hhat_h1, self.W_h2) + self.b3\n",
        "    output = tf.matmul(hhat_h2, self.W2) + self.b4\n",
        "    return output\n",
        "\n",
        " # Calculate standard error\n",
        "  def stderr(self,y_pred):\n",
        "    y_pred_tf = tf.cast(y_pred, dtype=tf.float32)\n",
        "    std_dev = np.std(y_pred_tf) #Calculates standard deviation\n",
        "    std_err = std_dev/sqrt(len(y_pred_tf))\n",
        "    return std_err \n",
        "\n",
        " # Calculate variance error\n",
        "  def var(self,y_pred):\n",
        "    y_pred_tf = tf.cast(y_pred, dtype=tf.float32)\n",
        "    std_dev = np.std(y_pred_tf) #Calculates standard deviation\n",
        "    variance = (std_dev**2) # calculate variance\n",
        "    return variance \n",
        "\n",
        "  def cat_accuracy(self, y_pred,y_true):\n",
        "    return tf.cast(tf.equal(tf.argmax(y_true, axis=-1),tf.argmax(y_pred, axis=-1)),tf.keras.backend.floatx())\n"
      ],
      "execution_count": null,
      "outputs": []
    },
    {
      "cell_type": "markdown",
      "metadata": {
        "id": "cUDFOuNk618X"
      },
      "source": [
        "## Train Model"
      ]
    },
    {
      "cell_type": "code",
      "metadata": {
        "id": "FZPVUu0YDa-_"
      },
      "source": [
        "# Set number of epochs\n",
        "NUM_EPOCHS = 10"
      ],
      "execution_count": null,
      "outputs": []
    },
    {
      "cell_type": "code",
      "metadata": {
        "id": "moAeRMJ56kr6",
        "colab": {
          "base_uri": "https://localhost:8080/"
        },
        "outputId": "4af992cc-3c6f-46a0-ae14-b4bb1e4a083f"
      },
      "source": [
        "# Initialize model using GPU MNIST Data on train data\n",
        "\n",
        "mlp_on_cpu = MLP(size_input, size_hidden1, size_hidden2, size_hidden3, size_output, device='gpu')\n",
        "print(\"model using CPU MNIST Data Without Regularization on Train data\")\n",
        "time_start = time.time()\n",
        "acc_mnist_train=[]\n",
        "acc_mnist_test=[]\n",
        "for epoch in range(NUM_EPOCHS):\n",
        "  loss_total = tf.zeros([1,1], dtype=tf.float32)\n",
        "  lt = 0\n",
        "  accuracy_train=0\n",
        "  train_ds = tf.data.Dataset.from_tensor_slices((X_train, y_train)).shuffle(25, seed=epoch*(seed)).batch(100)\n",
        "  for inputs, outputs in train_ds:\n",
        "    preds = mlp_on_cpu.forward(inputs)\n",
        "    loss_total = loss_total + mlp_on_cpu.loss(preds, outputs)\n",
        "    lt = lt + mlp_on_cpu.loss(preds, outputs)\n",
        "    mlp_on_cpu.backward(inputs, outputs)\n",
        "    accuracy_train=tf.keras.metrics.CategoricalAccuracy()\n",
        "    accuracy_train.update_state(preds, outputs)\n",
        "  acc_mnist_train.append(np.sum(loss_total) / X_train.shape[0])\n",
        "  print('Number of Epoch = {} - Average Cross Entropy:= {}, Accuracy:= {}'.format(epoch + 1, np.sum(loss_total) / X_train.shape[0], accuracy_train.result()*100))\n",
        "time_taken = time.time() - time_start\n",
        "\n",
        "print('\\nTotal time taken (in seconds): {:.2f}'.format(time_taken))\n",
        "#For per epoch_time = Total_Time / Number_of_epochs\n"
      ],
      "execution_count": null,
      "outputs": [
        {
          "output_type": "stream",
          "name": "stdout",
          "text": [
            "model using CPU MNIST Data Without Regularization on Train data\n",
            "Number of Epoch = 1 - Average Cross Entropy:= 13.457877232142858, Accuracy:= 80.0\n",
            "Number of Epoch = 2 - Average Cross Entropy:= 4.502041294642857, Accuracy:= 89.0\n",
            "Number of Epoch = 3 - Average Cross Entropy:= 3.181255859375, Accuracy:= 85.0\n",
            "Number of Epoch = 4 - Average Cross Entropy:= 2.491190011160714, Accuracy:= 87.0\n",
            "Number of Epoch = 5 - Average Cross Entropy:= 2.042404994419643, Accuracy:= 90.0\n",
            "Number of Epoch = 6 - Average Cross Entropy:= 1.7421519252232143, Accuracy:= 89.0\n",
            "Number of Epoch = 7 - Average Cross Entropy:= 1.5103563058035714, Accuracy:= 90.0\n",
            "Number of Epoch = 8 - Average Cross Entropy:= 1.3378405412946428, Accuracy:= 88.0\n",
            "Number of Epoch = 9 - Average Cross Entropy:= 1.1999453125, Accuracy:= 90.0\n",
            "Number of Epoch = 10 - Average Cross Entropy:= 1.08328515625, Accuracy:= 92.0\n",
            "\n",
            "Total time taken (in seconds): 177.46\n"
          ]
        }
      ]
    },
    {
      "cell_type": "code",
      "metadata": {
        "id": "SdMFAuH18Ve0",
        "colab": {
          "base_uri": "https://localhost:8080/"
        },
        "outputId": "2eec5f6c-55b0-4857-c121-2cd627964b64"
      },
      "source": [
        "# Initialize model using GPU MNIST Data on Test data\n",
        "\n",
        "mlp_on_cpu = MLP(size_input, size_hidden1, size_hidden2, size_hidden3, size_output, device='gpu')\n",
        "print(\"model using GPU MNIST Data Without Regularization on Test data\")\n",
        "time_start = time.time()\n",
        "acc_mnist_test=[]\n",
        "for epoch in range(NUM_EPOCHS):\n",
        "  loss_total = tf.zeros([1,1], dtype=tf.float32)\n",
        "  lt = 0\n",
        "  accuracy_test=0\n",
        "  train_ds = tf.data.Dataset.from_tensor_slices((X_test, y_test)).shuffle(25, seed=epoch*(seed)).batch(100)\n",
        "  for inputs, outputs in test_ds:\n",
        "    preds = mlp_on_cpu.forward(inputs)\n",
        "    loss_total = loss_total + mlp_on_cpu.loss(preds, outputs)\n",
        "    lt = lt + mlp_on_cpu.loss(preds, outputs)\n",
        "    mlp_on_cpu.backward(inputs, outputs)\n",
        "    accuracy_test=tf.keras.metrics.CategoricalAccuracy()\n",
        "    accuracy_test.update_state(preds, outputs)\n",
        "  acc_mnist_test.append(np.sum(loss_total) / X_test.shape[0])\n",
        "  print('Number of Epoch = {} - Average Cross Entropy:= {}, Accuracy:= {}'.format(epoch + 1, np.sum(loss_total) / X_test.shape[0], accuracy_test.result()*100))\n",
        "time_taken = time.time() - time_start\n",
        "\n",
        "print('\\nTotal time taken (in seconds): {:.2f}'.format(time_taken))\n",
        "#For per epoch_time = Total_Time / Number_of_epochs"
      ],
      "execution_count": null,
      "outputs": [
        {
          "output_type": "stream",
          "name": "stdout",
          "text": [
            "model using GPU MNIST Data Without Regularization on Test data\n",
            "Number of Epoch = 1 - Average Cross Entropy:= 205.31421428571429, Accuracy:= 100.0\n",
            "Number of Epoch = 2 - Average Cross Entropy:= 29.93509375, Accuracy:= 100.0\n",
            "Number of Epoch = 3 - Average Cross Entropy:= 13.579109375, Accuracy:= 100.0\n",
            "Number of Epoch = 4 - Average Cross Entropy:= 7.510904575892857, Accuracy:= 100.0\n",
            "Number of Epoch = 5 - Average Cross Entropy:= 4.934040736607143, Accuracy:= 100.0\n",
            "Number of Epoch = 6 - Average Cross Entropy:= 3.5423387276785716, Accuracy:= 100.0\n",
            "Number of Epoch = 7 - Average Cross Entropy:= 2.5098758370535714, Accuracy:= 100.0\n",
            "Number of Epoch = 8 - Average Cross Entropy:= 2.0056180245535713, Accuracy:= 100.0\n",
            "Number of Epoch = 9 - Average Cross Entropy:= 1.60450390625, Accuracy:= 100.0\n",
            "Number of Epoch = 10 - Average Cross Entropy:= 1.1582278878348213, Accuracy:= 100.0\n",
            "\n",
            "Total time taken (in seconds): 527.96\n"
          ]
        }
      ]
    },
    {
      "cell_type": "code",
      "source": [
        "# Initialize model using GPU Fashion MNIST Data on train data\n",
        "\n",
        "mlp_on_gpu = MLP(size_input, size_hidden1, size_hidden2, size_hidden3, size_output, device='gpu')\n",
        "print(\"model using GPU Fashion MNIST Data Without Regularization on Train data\")\n",
        "time_start = time.time()\n",
        "acc_fmnist_train=[]\n",
        "for epoch in range(NUM_EPOCHS):\n",
        "  loss_total = tf.zeros([1,1], dtype=tf.float32)\n",
        "  lt = 0\n",
        "  accu_train_fmnist=0\n",
        "  train_ds_fmnist = tf.data.Dataset.from_tensor_slices((Xtrain_fmnist, ytrain_fmnist)).shuffle(25, seed=epoch*(seed)).batch(100)\n",
        "  for inputs, outputs in train_ds_fmnist:\n",
        "    preds = mlp_on_gpu.forward(inputs)\n",
        "    loss_total = loss_total + mlp_on_gpu.loss(preds, outputs)\n",
        "    lt = lt + mlp_on_cpu.loss(preds, outputs)\n",
        "    mlp_on_gpu.backward(inputs, outputs)\n",
        "    accu_train_fmnist=tf.keras.metrics.CategoricalAccuracy()\n",
        "    accu_train_fmnist.update_state(preds, outputs)\n",
        "  acc_fmnist_train.append(np.sum(loss_total) / X_train.shape[0])\n",
        "  print('Number of Epoch = {} - Average Cross Entropy:= {}, Accuracy:= {}'.format(epoch + 1, np.sum(loss_total) / Xtrain_fmnist.shape[0], accu_train_fmnist.result()*100))\n",
        "time_taken = time.time() - time_start\n",
        "\n",
        "print('\\nTotal time taken (in seconds): {:.2f}'.format(time_taken))\n",
        "#For per epoch_time = Total_Time / Number_of_epochs"
      ],
      "metadata": {
        "colab": {
          "base_uri": "https://localhost:8080/"
        },
        "id": "0-2kgoT4N_ZT",
        "outputId": "6527001f-ebab-4e4c-e13b-b9b3d4062571"
      },
      "execution_count": null,
      "outputs": [
        {
          "output_type": "stream",
          "name": "stdout",
          "text": [
            "model using GPU Fashion MNIST Data Without Regularization on Train data\n",
            "Number of Epoch = 1 - Average Cross Entropy:= 1.7145040457589287, Accuracy:= 13.0\n",
            "Number of Epoch = 2 - Average Cross Entropy:= 1.2123295200892856, Accuracy:= 7.0\n",
            "Number of Epoch = 3 - Average Cross Entropy:= 1.0037972237723214, Accuracy:= 5.0\n",
            "Number of Epoch = 4 - Average Cross Entropy:= 0.8362370954241072, Accuracy:= 9.0\n",
            "Number of Epoch = 5 - Average Cross Entropy:= 0.7329169224330357, Accuracy:= 9.0\n",
            "Number of Epoch = 6 - Average Cross Entropy:= 0.6850256696428572, Accuracy:= 7.0\n",
            "Number of Epoch = 7 - Average Cross Entropy:= 0.6340092075892857, Accuracy:= 8.0\n",
            "Number of Epoch = 8 - Average Cross Entropy:= 0.5678643275669643, Accuracy:= 10.0\n",
            "Number of Epoch = 9 - Average Cross Entropy:= 0.5247691824776786, Accuracy:= 14.0\n",
            "Number of Epoch = 10 - Average Cross Entropy:= 0.49849672154017854, Accuracy:= 6.0\n",
            "\n",
            "Total time taken (in seconds): 173.07\n"
          ]
        }
      ]
    },
    {
      "cell_type": "code",
      "source": [
        "# # Initialize model using GPU Fashion MNIST Data on test data\n",
        "\n",
        "# mlp_on_gpu = MLP(size_input, size_hidden1, size_hidden2, size_hidden3, size_output, device='gpu')\n",
        "# print(\"model using GPU Fashion MNIST Data Without Regularization on Test data\")\n",
        "# time_start = time.time()\n",
        "# acc_fmnist_test=[]\n",
        "# for epoch in range(NUM_EPOCHS):\n",
        "#   loss_total = tf.zeros([1,1], dtype=tf.float32)\n",
        "#   lt = 0\n",
        "#   accu_test_fmnist=0\n",
        "#   test_ds_fmnist = tf.data.Dataset.from_tensor_slices((Xtest_fmnist, ytest_fmnist)).shuffle(25, seed=epoch*(seed)).batch(100)\n",
        "#   for inputs, outputs in test_ds_fmnist:\n",
        "#     preds = mlp_on_gpu.forward(inputs)\n",
        "#     loss_total = loss_total + mlp_on_gpu.loss(preds, outputs)\n",
        "#     lt = lt + mlp_on_cpu.loss(preds, outputs)\n",
        "#     mlp_on_gpu.backward(inputs, outputs)\n",
        "#     accu_test_fmnist=tf.keras.metrics.CategoricalAccuracy()\n",
        "#     accu_test_fmnist.update_state(preds, outputs)\n",
        "#   acc_fmnist_test.append(np.sum(loss_total) / Xtest_fmnist.shape[0])\n",
        "#   print('Number of Epoch = {} - Average Cross Entropy:= {}, Accuracy:= {}'.format(epoch + 1, np.sum(loss_total) / Xtest_fmnist.shape[0], accu_test_fmnist.result()*100))\n",
        "# time_taken = time.time() - time_start\n",
        "\n",
        "# print('\\nTotal time taken (in seconds): {:.2f}'.format(time_taken))\n",
        "# #For per epoch_time = Total_Time / Number_of_epochs"
      ],
      "metadata": {
        "id": "S0MX2aDiOAFt"
      },
      "execution_count": null,
      "outputs": []
    },
    {
      "cell_type": "code",
      "source": [
        "# Initialize model using GPU Fashion MNIST Data on train data\n",
        "\n",
        "mlp_on_tpu = MLP(size_input, size_hidden1, size_hidden2, size_hidden3, size_output, device='tpu')\n",
        "print(\"model using TPU Fashion MNIST Data Without Regularization on Test data\")\n",
        "time_start = time.time()\n",
        "\n",
        "acc_fmnist_test=[]\n",
        "for epoch in range(NUM_EPOCHS):\n",
        "  loss_total = tf.zeros([1,1], dtype=tf.float32)\n",
        "  lt = 0\n",
        "  accu_test_fmnist=0\n",
        "  test_ds_fmnist = tf.data.Dataset.from_tensor_slices((Xtest_fmnist, ytest_fmnist)).shuffle(25, seed=epoch*(seed)).batch(100)\n",
        "  for inputs, outputs in test_ds_fmnist:\n",
        "    preds = mlp_on_cpu.forward(inputs)\n",
        "    loss_total = loss_total + mlp_on_tpu.loss(preds, outputs)\n",
        "    lt = lt + mlp_on_tpu.loss(preds, outputs)\n",
        "    mlp_on_tpu.backward(inputs, outputs)\n",
        "    accu_test_fmnist=tf.keras.metrics.CategoricalAccuracy()\n",
        "    accu_test_fmnist.update_state(preds, outputs)\n",
        "  acc_fmnist_test.append(np.sum(loss_total) / Xtest_fmnist.shape[0])\n",
        "  print('Number of Epoch = {} - Average Cross Entropy:= {}, Accuracy:= {}'.format(epoch + 1, np.sum(loss_total) / Xtest_fmnist.shape[0], accu_test_fmnist.result()*100))\n",
        "time_taken = time.time() - time_start\n",
        "\n",
        "print('\\nTotal time taken (in seconds): {:.2f}'.format(time_taken))\n",
        "#For per epoch_time = Total_Time / Number_of_epochs\n"
      ],
      "metadata": {
        "colab": {
          "base_uri": "https://localhost:8080/"
        },
        "id": "qbKf1uLmN_bm",
        "outputId": "1dca900a-97ee-4ec8-b605-8373350c46cc"
      },
      "execution_count": null,
      "outputs": [
        {
          "output_type": "stream",
          "name": "stdout",
          "text": [
            "model using TPU Fashion MNIST Data Without Regularization on Test data\n",
            "Number of Epoch = 1 - Average Cross Entropy:= 5.800516183035715, Accuracy:= 11.0\n",
            "Number of Epoch = 2 - Average Cross Entropy:= 5.8005150669642855, Accuracy:= 12.0\n",
            "Number of Epoch = 3 - Average Cross Entropy:= 5.800513950892857, Accuracy:= 11.0\n",
            "Number of Epoch = 4 - Average Cross Entropy:= 5.800513392857143, Accuracy:= 9.0\n",
            "Number of Epoch = 5 - Average Cross Entropy:= 5.8005150669642855, Accuracy:= 11.0\n",
            "Number of Epoch = 6 - Average Cross Entropy:= 5.800515625, Accuracy:= 12.0\n",
            "Number of Epoch = 7 - Average Cross Entropy:= 5.800514508928571, Accuracy:= 11.0\n",
            "Number of Epoch = 8 - Average Cross Entropy:= 5.800514508928571, Accuracy:= 9.0\n",
            "Number of Epoch = 9 - Average Cross Entropy:= 5.800515625, Accuracy:= 10.0\n",
            "Number of Epoch = 10 - Average Cross Entropy:= 5.800515625, Accuracy:= 9.0\n",
            "\n",
            "Total time taken (in seconds): 28.42\n"
          ]
        }
      ]
    },
    {
      "cell_type": "markdown",
      "metadata": {
        "id": "PXe-2MENCOjq"
      },
      "source": [
        "## One Step Inference"
      ]
    },
    {
      "cell_type": "code",
      "metadata": {
        "id": "EKxWn7CNDVN5",
        "colab": {
          "base_uri": "https://localhost:8080/"
        },
        "outputId": "70c84569-367f-410e-8129-333e62e43a70"
      },
      "source": [
        "test_loss_total = tf.Variable(0, dtype=tf.float32)\n",
        "acc_preds = tf.Variable(0,dtype=tf.float32)\n",
        "for inputs, outputs in test_ds:\n",
        "  preds = mlp_on_cpu.forward(inputs)\n",
        "  # print(preds)\n",
        "  b = mlp_on_cpu.loss(preds, outputs)\n",
        "  standard_error = mlp_on_cpu.stderr(preds) \n",
        "  test_loss_total = test_loss_total + mlp_on_cpu.loss(preds, outputs)\n",
        "  Variance = mlp_on_cpu.var(preds) \n",
        "\n",
        "  for i in range(preds.shape[0]):\n",
        "    if tf.argmax(preds[i])==tf.argmax(outputs[i]):\n",
        "      acc_preds = acc_preds + 1.0\n",
        "acc = (acc_preds/X_test.shape[0])*100.0\n",
        "print('Inference for Test Data Regular')\n",
        "print('Test MSE: {:.4f}'.format(np.sum(test_loss_total.numpy())/X_train.shape[0]))\n",
        "print('Accuracy: {:.4f}'.format(acc))\n",
        "print('Standard Error: {:.4f}'.format(standard_error))\n",
        "print('Variance: {:.4f}'.format(Variance))\n",
        "\n",
        "print('Test MSE: {:.4f}'.format(np.sum(test_loss_total.numpy()) / X_train.shape[0]))"
      ],
      "execution_count": null,
      "outputs": [
        {
          "output_type": "stream",
          "name": "stdout",
          "text": [
            "Inference 1st\n",
            "Test MSE: 0.3104\n",
            "Accuracy: 81.2000\n",
            "Standard Error: 394.6757\n",
            "Variance: 623075.6002\n",
            "Test MSE: 0.3104\n"
          ]
        }
      ]
    },
    {
      "cell_type": "code",
      "source": [
        "test_loss_total = tf.Variable(0, dtype=tf.float32)\n",
        "acc_preds = tf.Variable(0,dtype=tf.float32)\n",
        "#test_loss_total = 0.0\n",
        "for inputs, outputs in test_ds_fmnist:\n",
        "  preds = mlp_on_cpu.forward(inputs)\n",
        "  # print(preds)\n",
        "  b = mlp_on_cpu.loss(preds, outputs)\n",
        "  standard_error = mlp_on_cpu.stderr(preds) # Standard error\n",
        "  # print(b)\n",
        "  test_loss_total = test_loss_total + mlp_on_cpu.loss(preds, outputs)\n",
        "# a = (test_loss_total.numpy() / X_train.shape[0])\n",
        "# print(X_train.shape[0])\n",
        "  Variance = mlp_on_cpu.var(preds) # Variance\n",
        "\n",
        "  for i in range(preds.shape[0]):\n",
        "    if tf.argmax(preds[i])==tf.argmax(outputs[i]):\n",
        "      acc_preds = acc_preds + 1.0\n",
        "acc = (acc_preds/Xtest_fmnist.shape[0])*100.0\n",
        "print('Inference Fashion MNIST Test data Regular')\n",
        "print('Test MSE: {:.4f}'.format(np.sum(test_loss_total.numpy())/Xtest_fmnist.shape[0]))\n",
        "print('Accuracy: {:.4f}'.format(acc))\n",
        "print('Standard Error: {:.4f}'.format(standard_error))\n",
        "print('Variance: {:.4f}'.format(Variance))\n",
        "\n",
        "print('Test MSE: {:.4f}'.format(np.sum(test_loss_total.numpy()) / Xtest_fmnist.shape[0]))"
      ],
      "metadata": {
        "colab": {
          "base_uri": "https://localhost:8080/"
        },
        "id": "WhxuUtDGbCKj",
        "outputId": "302af873-b57d-4775-e7b0-c240a4903c44"
      },
      "execution_count": null,
      "outputs": [
        {
          "output_type": "stream",
          "name": "stdout",
          "text": [
            "Inference 1st\n",
            "Test MSE: 3.0099\n",
            "Accuracy: 10.0857\n",
            "Standard Error: 4.5629\n",
            "Variance: 83.2797\n",
            "Test MSE: 3.0099\n"
          ]
        }
      ]
    },
    {
      "cell_type": "code",
      "source": [
        "# Plot learning curve (with errors)\n",
        "import matplotlib.pyplot as plt\n",
        "%matplotlib inline\n",
        "iterations = [1,2,3,4,5,6,7,8,9,10]\n",
        "errors_train = np.squeeze(acc_mnist_train)\n",
        "errors_test = np.squeeze(acc_mnist_test)\n",
        "errors_train1 = np.squeeze(acc_fmnist_train)\n",
        "errors_test1 = np.squeeze(acc_fmnist_test)\n",
        "plt.plot(iterations,errors_train,label='MNIST Train Regular')\n",
        "plt.plot(iterations,errors_test,label='MNIST Test Regular ')\n",
        "plt.plot(iterations,errors_train1,label='Fashion MNIST train Regular ')\n",
        "plt.plot(iterations,errors_test1,label='Fashion MNIST test Regular')\n",
        "plt.ylabel('errors')\n",
        "plt.xlabel('iterations ')\n",
        "plt.title(\"MNIST Regular\")\n",
        "plt.legend()\n",
        "plt.show()"
      ],
      "metadata": {
        "colab": {
          "base_uri": "https://localhost:8080/",
          "height": 295
        },
        "id": "A21B--RsYV0u",
        "outputId": "45649805-5f5c-47d3-dd56-a4e308fc681c"
      },
      "execution_count": null,
      "outputs": [
        {
          "output_type": "display_data",
          "data": {
            "image/png": "[encoded data removed]",
            "text/plain": [
              "<Figure size 432x288 with 1 Axes>"
            ]
          },
          "metadata": {
            "needs_background": "light"
          }
        }
      ]
    }
  ]
}