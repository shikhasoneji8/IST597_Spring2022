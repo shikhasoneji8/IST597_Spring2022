{
  "nbformat": 4,
  "nbformat_minor": 0,
  "metadata": {
    "colab": {
      "name": "IST597_MLP_L1.ipynb",
      "provenance": [],
      "collapsed_sections": []
    },
    "kernelspec": {
      "name": "python3",
      "display_name": "Python 3"
    },
    "accelerator": "GPU"
  },
  "cells": [
    {
      "cell_type": "markdown",
      "metadata": {
        "id": "view-in-github"
      },
      "source": [
        "<a href=\"https://colab.research.google.com/github/AnkurMali/IST597_Spring_2022/blob/main/IST597_MLP_collab.ipynb\" target=\"_parent\"><img src=\"https://colab.research.google.com/assets/colab-badge.svg\" alt=\"Open In Colab\"/></a>"
      ]
    },
    {
      "cell_type": "markdown",
      "metadata": {
        "id": "71kdFp0QgF4K"
      },
      "source": [
        "# IST597:- Multi-Layer Perceptron"
      ]
    },
    {
      "cell_type": "markdown",
      "metadata": {
        "id": "C2yHcl5xgPV1"
      },
      "source": [
        "## Load the libraries"
      ]
    },
    {
      "cell_type": "code",
      "metadata": {
        "id": "2DPwxLR2gSLC"
      },
      "source": [
        "import os\n",
        "import numpy as np\n",
        "from sklearn.metrics import roc_auc_score, accuracy_score\n",
        "import keras\n",
        "import time\n",
        "import math\n",
        "import tensorflow as tf\n",
        "import torch.nn as nn\n",
        "from keras.datasets import fashion_mnist\n",
        "\n",
        "seed=97238684\n",
        "np.random.seed(seed)\n",
        "tf.random.set_seed(seed)\n",
        "# np.random.seed(1234)\n",
        "# tf.random.set_seed(1234)\n",
        "from sklearn.model_selection import train_test_split"
      ],
      "execution_count": 2,
      "outputs": []
    },
    {
      "cell_type": "code",
      "metadata": {
        "id": "wV-3kEaggcO8",
        "colab": {
          "base_uri": "https://localhost:8080/"
        },
        "outputId": "2fdabc26-c477-4c67-ba9d-bd04e646cfa5"
      },
      "source": [
        "tf.config.list_physical_devices('GPU')"
      ],
      "execution_count": 3,
      "outputs": [
        {
          "output_type": "execute_result",
          "data": {
            "text/plain": [
              "[]"
            ]
          },
          "metadata": {},
          "execution_count": 3
        }
      ]
    },
    {
      "cell_type": "markdown",
      "metadata": {
        "id": "iw78jw6pDqSM"
      },
      "source": [
        "#Get number of Gpu's and id's in the system or else you can also use Nvidia-smi in command prompt."
      ]
    },
    {
      "cell_type": "markdown",
      "metadata": {
        "id": "7Dk_S2TMg_6_"
      },
      "source": [
        "## Generate random data"
      ]
    },
    {
      "cell_type": "code",
      "metadata": {
        "id": "40XlFnwho7D8"
      },
      "source": [
        "size_input = 784\n",
        "size_hidden1 = 512\n",
        "size_hidden2 = 256\n",
        "size_hidden3 = 128\n",
        "size_output = 10\n",
        "starter_learning_rate = 0.001\n",
        "regularizer_rate = 0.1"
      ],
      "execution_count": 4,
      "outputs": []
    },
    {
      "cell_type": "code",
      "metadata": {
        "id": "qm23CzRihaW0",
        "colab": {
          "base_uri": "https://localhost:8080/"
        },
        "outputId": "2f47e19f-4a7d-4cda-837e-8c04c88a4213"
      },
      "source": [
        "train_ratio = 0.80\n",
        "validation_ratio = 0.10\n",
        "test_ratio = 0.10\n",
        "\n",
        "(X_train, y_train), (X_test, y_test) = tf.keras.datasets.mnist.load_data()\n",
        "X = np.concatenate([X_train, X_test])\n",
        "y = np.concatenate([y_train, y_test])\n",
        "\n",
        "X_train, X_val, y_train, y_val = train_test_split(X, y, test_size=(1-train_ratio))\n",
        "X_val, X_test, y_val, y_test = train_test_split(X_val, y_val, test_size=((test_ratio/(validation_ratio+test_ratio))))\n",
        "\n",
        "X_train.shape"
      ],
      "execution_count": 5,
      "outputs": [
        {
          "output_type": "stream",
          "name": "stdout",
          "text": [
            "Downloading data from https://storage.googleapis.com/tensorflow/tf-keras-datasets/mnist.npz\n",
            "11493376/11490434 [==============================] - 0s 0us/step\n",
            "11501568/11490434 [==============================] - 0s 0us/step\n"
          ]
        },
        {
          "output_type": "execute_result",
          "data": {
            "text/plain": [
              "(56000, 28, 28)"
            ]
          },
          "metadata": {},
          "execution_count": 5
        }
      ]
    },
    {
      "cell_type": "code",
      "source": [
        "\n",
        "(Xtrain_fmnist, ytrain_fmnist), (Xtest_fmnist, ytest_fmnist) = fashion_mnist.load_data()\n",
        "X_fmnist = np.concatenate([Xtrain_fmnist, Xtest_fmnist])\n",
        "y_fmnist = np.concatenate([ytrain_fmnist, ytest_fmnist])\n",
        "\n",
        "Xtrain_fmnist, X_val_fmnist, ytrain_fmnist, y_val_fmnist = train_test_split(X_fmnist, y_fmnist, test_size=(1-train_ratio))\n",
        "X_val_fmnist, Xtest_fmnist, y_val_fmnist, ytest_fmnist = train_test_split(X_val_fmnist, y_val_fmnist, test_size=((test_ratio/(validation_ratio+test_ratio))))"
      ],
      "metadata": {
        "colab": {
          "base_uri": "https://localhost:8080/"
        },
        "id": "cGPxtq-Gb4vx",
        "outputId": "d428c16d-e464-466e-e2ee-eb6219435512"
      },
      "execution_count": 6,
      "outputs": [
        {
          "output_type": "stream",
          "name": "stdout",
          "text": [
            "Downloading data from https://storage.googleapis.com/tensorflow/tf-keras-datasets/train-labels-idx1-ubyte.gz\n",
            "32768/29515 [=================================] - 0s 0us/step\n",
            "40960/29515 [=========================================] - 0s 0us/step\n",
            "Downloading data from https://storage.googleapis.com/tensorflow/tf-keras-datasets/train-images-idx3-ubyte.gz\n",
            "26427392/26421880 [==============================] - 0s 0us/step\n",
            "26435584/26421880 [==============================] - 0s 0us/step\n",
            "Downloading data from https://storage.googleapis.com/tensorflow/tf-keras-datasets/t10k-labels-idx1-ubyte.gz\n",
            "16384/5148 [===============================================================================================] - 0s 0us/step\n",
            "Downloading data from https://storage.googleapis.com/tensorflow/tf-keras-datasets/t10k-images-idx3-ubyte.gz\n",
            "4423680/4422102 [==============================] - 0s 0us/step\n",
            "4431872/4422102 [==============================] - 0s 0us/step\n"
          ]
        }
      ]
    },
    {
      "cell_type": "code",
      "source": [
        "\n",
        "X_train = np.reshape(X_train, (56000, 784))\n",
        "X_test = np.reshape(X_test, (-1, 784))\n",
        "X_train = X_train.astype(float) / 255\n",
        "X_test = X_test.astype(float) / 255\n",
        "X_val = np.reshape(X_val, (7000,784))\n",
        "X_val=X_val/255.0\n",
        "X_val=tf.cast(X_val,dtype=tf.float32)\n",
        "y_train = tf.one_hot(y_train,10)\n",
        "y_test = tf.one_hot(y_test,10)"
      ],
      "metadata": {
        "id": "G4ENBZGWb4yV"
      },
      "execution_count": 7,
      "outputs": []
    },
    {
      "cell_type": "code",
      "source": [
        "Xtrain_fmnist = np.reshape(X_train, (56000, 784))\n",
        "Xtest_fmnist = np.reshape(X_test, (-1, 784))\n",
        "Xtrain_fmnist = Xtrain_fmnist.astype(float) / 255\n",
        "Xtest_fmnist = Xtest_fmnist.astype(float) / 255\n",
        "X_val_fmnist = np.reshape(X_val_fmnist, (7000,784))\n",
        "X_val_fmnist=X_val_fmnist.astype(float) /255.0\n",
        "ytrain_fmnist = tf.one_hot(ytrain_fmnist,10)\n",
        "ytest_fmnist = tf.one_hot(ytest_fmnist,10)"
      ],
      "metadata": {
        "id": "ZlIIRszxb9nN"
      },
      "execution_count": 8,
      "outputs": []
    },
    {
      "cell_type": "code",
      "source": [
        "print(X_train.shape, y_train.shape)\n",
        "print(Xtrain_fmnist.shape, ytrain_fmnist.shape)\n",
        "print(\"y_train: \",y_train)\n",
        "print(\"y_val: \",y_val)\n",
        "print(\"y_test: \",y_test)"
      ],
      "metadata": {
        "colab": {
          "base_uri": "https://localhost:8080/"
        },
        "id": "droiWRYhcBcg",
        "outputId": "a30cdaff-805c-40e6-bb5f-ba5c75fe981b"
      },
      "execution_count": 9,
      "outputs": [
        {
          "output_type": "stream",
          "name": "stdout",
          "text": [
            "(56000, 784) (56000, 10)\n",
            "(56000, 784) (56000, 10)\n",
            "y_train:  tf.Tensor(\n",
            "[[0. 0. 0. ... 0. 0. 0.]\n",
            " [0. 0. 1. ... 0. 0. 0.]\n",
            " [0. 0. 1. ... 0. 0. 0.]\n",
            " ...\n",
            " [0. 0. 1. ... 0. 0. 0.]\n",
            " [0. 0. 0. ... 1. 0. 0.]\n",
            " [0. 0. 0. ... 0. 0. 1.]], shape=(56000, 10), dtype=float32)\n",
            "y_val:  [4 2 6 ... 6 2 5]\n",
            "y_test:  tf.Tensor(\n",
            "[[0. 1. 0. ... 0. 0. 0.]\n",
            " [0. 0. 0. ... 0. 1. 0.]\n",
            " [0. 0. 0. ... 0. 0. 0.]\n",
            " ...\n",
            " [0. 0. 0. ... 0. 0. 0.]\n",
            " [0. 0. 0. ... 1. 0. 0.]\n",
            " [0. 0. 0. ... 0. 0. 1.]], shape=(7000, 10), dtype=float32)\n"
          ]
        }
      ]
    },
    {
      "cell_type": "code",
      "metadata": {
        "id": "aigqKFFF5BM2"
      },
      "source": [
        "# Split MNIST dataset into batches\n",
        "train_ds = tf.data.Dataset.from_tensor_slices((X_train, y_train)).batch(16)\n",
        "test_ds = tf.data.Dataset.from_tensor_slices((X_test, y_test)).batch(4)\n",
        "val_ds = tf.data.Dataset.from_tensor_slices((X_val, y_val)).batch(2)"
      ],
      "execution_count": 10,
      "outputs": []
    },
    {
      "cell_type": "code",
      "source": [
        "# Split FMNIST dataset into batches\n",
        "train_ds_fmnist = tf.data.Dataset.from_tensor_slices((Xtrain_fmnist, ytrain_fmnist)).batch(16)\n",
        "test_ds_fmnist = tf.data.Dataset.from_tensor_slices((Xtest_fmnist, ytest_fmnist)).batch(4)\n",
        "val_ds_fmnist = tf.data.Dataset.from_tensor_slices((X_val_fmnist, y_val_fmnist)).batch(2)"
      ],
      "metadata": {
        "id": "K4tYXDCfcHp1"
      },
      "execution_count": 11,
      "outputs": []
    },
    {
      "cell_type": "markdown",
      "metadata": {
        "id": "Eb4hOoVbnzSJ"
      },
      "source": [
        "## Build MLP using Eager Execution With L1 Regularization\n"
      ]
    },
    {
      "cell_type": "code",
      "metadata": {
        "id": "Ht9_qpYipgHw"
      },
      "source": [
        "# Define class to build mlp model\n",
        "class MLP(object):\n",
        "  def __init__(self, size_input, size_hidden1, size_hidden2, size_hidden3, size_output, device=None):\n",
        "    \"\"\"\n",
        "    size_input: int, size of input layer\n",
        "    size_hidden: int, size of hidden layer\n",
        "    size_output: int, size of output layer\n",
        "    device: str or None, either 'cpu' or 'gpu' or None. If None, the device to be used will be decided automatically during Eager Execution\n",
        "    \"\"\"\n",
        "    self.size_input, self.size_hidden1, self.size_hidden2, self.size_hidden3, self.size_output, self.device =\\\n",
        "    size_input, size_hidden1, size_hidden2, size_hidden3, size_output, device\n",
        "    \n",
        "    # Initialize weights between input layer and hidden layer\n",
        "    self.W1 = tf.Variable(tf.random.normal([self.size_input, self.size_hidden1]))\n",
        "    self.W_h1 = tf.Variable(tf.random.normal([self.size_hidden1, self.size_hidden2]))\n",
        "    # Initialize biases for hidden layer\n",
        "    self.b1 = tf.Variable(tf.random.normal([1, self.size_hidden1]))\n",
        "     # Initialize weights between hidden layer and output layer\n",
        "    self.W_h2 = tf.Variable(tf.random.normal([self.size_hidden2, self.size_hidden3]))\n",
        "    self.W2 = tf.Variable(tf.random.normal([self.size_hidden3, self.size_output]))\n",
        "    # Initialize biases for output layer\n",
        "    self.b2 = tf.Variable(tf.random.normal([1, self.size_hidden2]))\n",
        "    self.b3 = tf.Variable(tf.random.normal([1, self.size_hidden3]))\n",
        "    self.b4 = tf.Variable(tf.random.normal([1, self.size_output]))\n",
        "    # Define variables to be updated during backpropagation\n",
        "    self.variables = [self.W1, self.W_h1, self.W_h2, self.W2, self.b1, self.b2, self.b3, self.b4]\n",
        "    \n",
        "    \n",
        "  def forward(self, X):\n",
        "    \"\"\"\n",
        "    forward pass\n",
        "    X: Tensor, inputs\n",
        "    \"\"\"\n",
        "    if self.device is not None:\n",
        "      with tf.device('gpu:0' if self.device=='gpu' else 'cpu'):\n",
        "        self.y = self.compute_output(X)\n",
        "    else:\n",
        "      self.y = self.compute_output(X)\n",
        "      \n",
        "    return self.y\n",
        "  \n",
        "  def loss(self, y_pred, y_true):\n",
        "    '''\n",
        "    y_pred - Tensor of shape (batch_size, size_output)\n",
        "    y_true - Tensor of shape (batch_size, size_output)\n",
        "    '''\n",
        "    y_true_tf = tf.cast(tf.reshape(y_true, (-1, self.size_output)), dtype=tf.float32)\n",
        "    y_pred_tf = tf.cast(y_pred, dtype=tf.float32)\n",
        "    loss = tf.reduce_mean(tf.nn.softmax_cross_entropy_with_logits(logits=y_pred,labels=y_true)) + \\\n",
        "        (tf.reduce_sum(tf.abs(self.W1)) + tf.reduce_sum(tf.abs(self.W_h1)) + tf.reduce_sum(tf.abs(self.W_h2))+tf.reduce_sum(tf.abs(self.W2)))\n",
        "    return loss\n",
        "    \n",
        "  \n",
        "  def backward(self, X_train, y_train):\n",
        "    \"\"\"\n",
        "    backward pass\n",
        "    \"\"\"\n",
        "    # optimizer = tf.keras.optimizers.SGD(learning_rate=1e-4)\n",
        "    optimizer = tf.keras.optimizers.Adam(\n",
        "    learning_rate=0.001, epsilon=1e-07, amsgrad=False,\n",
        "    name='Adam')\n",
        "    with tf.GradientTape() as tape:\n",
        "      predicted = self.forward(X_train)\n",
        "      current_loss = self.loss(predicted, y_train)\n",
        "    grads = tape.gradient(current_loss, self.variables)\n",
        "    optimizer.apply_gradients(zip(grads, self.variables))\n",
        "        \n",
        "        \n",
        "  def compute_output(self, X):\n",
        "    \"\"\"\n",
        "    Custom method to obtain output tensor during forward pass\n",
        "    \"\"\"\n",
        "    # Cast X to float32\n",
        "    X_tf = tf.cast(X, dtype=tf.float32)\n",
        "    # Compute values in hidden layer\n",
        "    what_i = tf.matmul(X_tf, self.W1) + self.b1\n",
        "    hhat_i = tf.nn.relu(what_i)\n",
        "    what_h1 = tf.matmul(hhat_i, self.W_h1) + self.b2\n",
        "    hhat_h1 = tf.nn.relu(what_h1)\n",
        "    what_h2 = tf.matmul(hhat_h1, self.W_h2) + self.b3\n",
        "    hhat_h2 = tf.nn.relu(what_h2)\n",
        "\n",
        "    \n",
        "    #Now consider two things , First look at inbuild loss functions if they work with softmax or not and then change this\n",
        "    output = tf.matmul(hhat_h2, self.W2) + self.b4\n",
        "    output = tf.nn.softmax(output)\n",
        "    #Second add tf.Softmax(output) and then return this variable\n",
        "    return output\n",
        "\n",
        "  # Calculate standard error\n",
        "  def stderr(self,y_pred):\n",
        "    y_pred_tf = tf.cast(y_pred, dtype=tf.float32)\n",
        "    std_dev = np.std(y_pred_tf) #Calculates standard deviation\n",
        "    std_err = std_dev/sqrt(len(y_pred_tf))\n",
        "    return std_err \n",
        "\n",
        " # Calculate variance error\n",
        "  def var(self,y_pred):\n",
        "    y_pred_tf = tf.cast(y_pred, dtype=tf.float32)\n",
        "    std_dev = np.std(y_pred_tf) #Calculates standard deviation\n",
        "    variance = (std_dev**2) # calculate variance\n",
        "    return variance \n",
        "    \n",
        "  def cat_accuracy(self, y_pred,y_true):\n",
        "    return tf.cast(tf.equal(tf.argmax(y_true, axis=-1),tf.argmax(y_pred, axis=-1)),tf.keras.backend.floatx())\n"
      ],
      "execution_count": 12,
      "outputs": []
    },
    {
      "cell_type": "markdown",
      "metadata": {
        "id": "cUDFOuNk618X"
      },
      "source": [
        "## Train Model"
      ]
    },
    {
      "cell_type": "code",
      "metadata": {
        "id": "FZPVUu0YDa-_"
      },
      "source": [
        "# Set number of epochs\n",
        "NUM_EPOCHS = 10"
      ],
      "execution_count": 13,
      "outputs": []
    },
    {
      "cell_type": "code",
      "metadata": {
        "id": "moAeRMJ56kr6",
        "colab": {
          "base_uri": "https://localhost:8080/"
        },
        "outputId": "ec54d8c7-48aa-4911-dbf7-d57dc5201fd5"
      },
      "source": [
        "# Initialize model using CPU MNIST Data with L1 regularization\n",
        "\n",
        "mlp_on_cpu = MLP(size_input, size_hidden1, size_hidden2, size_hidden3, size_output, device='cpu')\n",
        "\n",
        "time_start = time.time()\n",
        "acc_mnist=[]\n",
        "for epoch in range(NUM_EPOCHS):\n",
        "  loss_total = tf.zeros([1,1], dtype=tf.float32)\n",
        "  lt = 0\n",
        "  accuracy=0\n",
        "  train_ds = tf.data.Dataset.from_tensor_slices((X_train, y_train)).shuffle(25, seed=epoch*(seed)).batch(20)\n",
        "  for inputs, outputs in train_ds:\n",
        "    preds = mlp_on_cpu.forward(inputs)\n",
        "    loss_total = loss_total + mlp_on_cpu.loss(preds, outputs)\n",
        "    lt = lt + mlp_on_cpu.loss(preds, outputs)\n",
        "    mlp_on_cpu.backward(inputs, outputs)\n",
        "    accuracy=mlp_on_cpu.cat_accuracy(preds, outputs)\n",
        "  acc_mnist.append(np.sum(loss_total) / X_train.shape[0])\n",
        "  print('Number of Epoch = {} - Average Cross Entropy:= {}, Accuracy:= {}'.format(epoch + 1, np.sum(loss_total) / X_train.shape[0], (100-(np.abs(np.sum(np.abs(accuracy)))/accuracy.shape[0]))))\n",
        "time_taken = time.time() - time_start\n",
        "\n",
        "print('\\nTotal time taken (in seconds): {:.2f}'.format(time_taken))\n",
        "#For per epoch_time = Total_Time / Number_of_epochs"
      ],
      "execution_count": 13,
      "outputs": [
        {
          "output_type": "stream",
          "name": "stdout",
          "text": [
            "Number of Epoch = 1 - Average Cross Entropy:= 5084.5445714285715, Accuracy:= 99.95\n",
            "Number of Epoch = 2 - Average Cross Entropy:= 18.948426339285714, Accuracy:= 99.8\n",
            "Number of Epoch = 3 - Average Cross Entropy:= 14.278661830357143, Accuracy:= 99.85\n",
            "Number of Epoch = 4 - Average Cross Entropy:= 14.278641741071429, Accuracy:= 99.8\n",
            "Number of Epoch = 5 - Average Cross Entropy:= 14.278591517857143, Accuracy:= 99.8\n",
            "Number of Epoch = 6 - Average Cross Entropy:= 14.278595982142857, Accuracy:= 99.85\n",
            "Number of Epoch = 7 - Average Cross Entropy:= 14.2786015625, Accuracy:= 99.9\n",
            "Number of Epoch = 8 - Average Cross Entropy:= 14.2786015625, Accuracy:= 99.85\n",
            "Number of Epoch = 9 - Average Cross Entropy:= 14.2786015625, Accuracy:= 99.8\n",
            "Number of Epoch = 10 - Average Cross Entropy:= 14.278602678571428, Accuracy:= 99.7\n",
            "\n",
            "Total time taken (in seconds): 1518.94\n"
          ]
        }
      ]
    },
    {
      "cell_type": "code",
      "metadata": {
        "id": "SdMFAuH18Ve0",
        "colab": {
          "base_uri": "https://localhost:8080/"
        },
        "outputId": "accb4c56-9bd6-405e-c681-b95006d6cc37"
      },
      "source": [
        "\n",
        "# Initialize model using GPU\n",
        "mlp_on_gpu = MLP(size_input, size_hidden1, size_hidden2, size_hidden3, size_output, device='gpu')\n",
        "acc_mnist_gpu=[]\n",
        "time_start = time.time()\n",
        "for epoch in range(NUM_EPOCHS):\n",
        "  loss_total_gpu = tf.zeros([1,1], dtype=tf.float32)\n",
        "  lt = 0\n",
        "  accuracy_mnist_gpu=0\n",
        "  train_ds = tf.data.Dataset.from_tensor_slices((X_train, y_train)).shuffle(25, seed=epoch*(1234)).batch(20)\n",
        "  for inputs, outputs in train_ds:\n",
        "    preds = mlp_on_gpu.forward(inputs)\n",
        "    loss_total_gpu = loss_total_gpu + mlp_on_gpu.loss(preds, outputs)\n",
        "    lt = lt + mlp_on_gpu.loss(preds, outputs)\n",
        "    mlp_on_gpu.backward(inputs, outputs)\n",
        "    accuracy_mnist_gpu=mlp_on_cpu.cat_accuracy(preds, outputs)\n",
        "  acc_mnist_gpu.append(np.sum(loss_total) / X_train.shape[0])\n",
        "  print('Number of Epoch = {} - Average Cross Entropy:= {}, Accuracy:= {}'.format(epoch + 1, np.sum(loss_total) / X_train.shape[0], (100-(np.abs(np.sum(np.abs(accuracy_mnist_gpu)))/accuracy_mnist_gpu.shape[0]))))\n",
        "time_taken = time.time() - time_start\n",
        "\n",
        "\n",
        "print('\\nTotal time taken (in seconds): {:.2f}'.format(time_taken))"
      ],
      "execution_count": null,
      "outputs": [
        {
          "output_type": "stream",
          "name": "stdout",
          "text": [
            "Number of Epoch = 1 - Average MSE:= 4325.573\n",
            "Number of Epoch = 2 - Average MSE:= 27.723109375\n",
            "Number of Epoch = 3 - Average MSE:= 12.409765625\n",
            "Number of Epoch = 4 - Average MSE:= 7.18881298828125\n",
            "Number of Epoch = 5 - Average MSE:= 4.785166015625\n",
            "Number of Epoch = 6 - Average MSE:= 3.5824267578125\n",
            "Number of Epoch = 7 - Average MSE:= 2.8207646484375\n",
            "Number of Epoch = 8 - Average MSE:= 2.42839990234375\n",
            "Number of Epoch = 9 - Average MSE:= 2.052015625\n",
            "Number of Epoch = 10 - Average MSE:= 1.837486572265625\n",
            "\n",
            "Total time taken (in seconds): 4.07\n"
          ]
        }
      ]
    },
    {
      "cell_type": "code",
      "metadata": {
        "id": "xI4lsqPhB6Xi",
        "colab": {
          "base_uri": "https://localhost:8080/"
        },
        "outputId": "9df252e0-bc23-4ff6-cf45-7d3a546b03da"
      },
      "source": [
        "#Default mode\n",
        "mlp_on_default = MLP(size_input, size_hidden1, size_hidden2, size_hidden3, size_output)\n",
        "acc_mnist_default=[]\n",
        "time_start = time.time()\n",
        "for epoch in range(NUM_EPOCHS):\n",
        "  loss_total_gpu = tf.zeros([1,1], dtype=tf.float32)\n",
        "  lt = 0\n",
        "  accuracy_mnist_default=0\n",
        "  train_ds = tf.data.Dataset.from_tensor_slices((X_train, y_train)).shuffle(25, seed=epoch*(1234)).batch(20)\n",
        "  for inputs, outputs in train_ds:\n",
        "    preds = mlp_on_default.forward(inputs)\n",
        "    loss_total_gpu = loss_total_gpu + mlp_on_default.loss(preds, outputs)\n",
        "    lt = lt + mlp_on_default.loss(preds, outputs)\n",
        "    mlp_on_default.backward(inputs, outputs)\n",
        "    accuracy_mnist_default=mlp_on_cpu.cat_accuracy(preds, outputs)\n",
        "  acc_mnist_default.append(np.sum(loss_total) / X_train.shape[0])\n",
        "  print('Number of Epoch = {} - Average Cross Entropy:= {}, Accuracy:= {}'.format(epoch + 1, np.sum(loss_total) / X_train.shape[0], (100-(np.abs(np.sum(np.abs(accuracy_mnist_default)))/accuracy_mnist_default.shape[0]))))\n",
        "time_taken = time.time() - time_start\n",
        "\n",
        "print('\\nTotal time taken (in seconds): {:.2f}'.format(time_taken))"
      ],
      "execution_count": 14,
      "outputs": [
        {
          "output_type": "stream",
          "name": "stdout",
          "text": [
            "Number of Epoch = 1 - Average Cross Entropy:= 14.278602678571428, Accuracy:= 99.75\n",
            "Number of Epoch = 2 - Average Cross Entropy:= 14.278602678571428, Accuracy:= 99.9\n",
            "Number of Epoch = 3 - Average Cross Entropy:= 14.278602678571428, Accuracy:= 99.8\n",
            "Number of Epoch = 4 - Average Cross Entropy:= 14.278602678571428, Accuracy:= 99.8\n",
            "Number of Epoch = 5 - Average Cross Entropy:= 14.278602678571428, Accuracy:= 99.9\n",
            "Number of Epoch = 6 - Average Cross Entropy:= 14.278602678571428, Accuracy:= 99.75\n",
            "Number of Epoch = 7 - Average Cross Entropy:= 14.278602678571428, Accuracy:= 99.9\n",
            "Number of Epoch = 8 - Average Cross Entropy:= 14.278602678571428, Accuracy:= 99.85\n",
            "Number of Epoch = 9 - Average Cross Entropy:= 14.278602678571428, Accuracy:= 99.85\n",
            "Number of Epoch = 10 - Average Cross Entropy:= 14.278602678571428, Accuracy:= 99.85\n",
            "\n",
            "Total time taken (in seconds): 1255.49\n"
          ]
        }
      ]
    },
    {
      "cell_type": "code",
      "metadata": {
        "colab": {
          "base_uri": "https://localhost:8080/"
        },
        "id": "LkaUg-TY7GdV",
        "outputId": "9dba401c-fdf9-4db8-9c93-1434710edc52"
      },
      "source": [
        "#TPU mode on MNIST data with L1 Regularization\n",
        "mlp_on_gpu = MLP(size_input, size_hidden1, size_hidden2, size_hidden3, size_output, device='tpu')\n",
        "\n",
        "print(\"TPU Model MNIST Data With L1 Regularization\")\n",
        "acc_mnist_tpu=[]\n",
        "time_start = time.time()\n",
        "accuracy_mnist_tpu=0\n",
        "for epoch in range(NUM_EPOCHS):\n",
        "  loss_total_gpu = tf.zeros([1,1], dtype=tf.float32)\n",
        "  lt = 0\n",
        "  train_ds = tf.data.Dataset.from_tensor_slices((X_train, y_train)).shuffle(25, seed=epoch*(1234)).batch(20)\n",
        "  for inputs, outputs in train_ds:\n",
        "    preds = mlp_on_gpu.forward(inputs)\n",
        "    loss_total_gpu = loss_total_gpu + mlp_on_gpu.loss(preds, outputs)\n",
        "    lt = lt + mlp_on_gpu.loss(preds, outputs)\n",
        "    mlp_on_gpu.backward(inputs, outputs)\n",
        "    accuracy_mnist_tpu=mlp_on_cpu.cat_accuracy(preds, outputs)\n",
        "  acc_mnist_tpu.append(np.sum(loss_total) / X_train.shape[0])\n",
        "  print('Number of Epoch = {} - Average Cross Entropy:= {}, Accuracy:= {}'.format(epoch + 1, np.sum(loss_total_gpu) / X_train.shape[0], (100-(np.abs(np.sum(np.abs(accuracy_mnist_tpu)))/accuracy_mnist_tpu.shape[0]))))\n",
        "time_taken = time.time() - time_start\n",
        "\n",
        "print('\\nTotal time taken (in seconds): {:.2f}'.format(time_taken))"
      ],
      "execution_count": 15,
      "outputs": [
        {
          "output_type": "stream",
          "name": "stdout",
          "text": [
            "TPU Model MNIST Data With L1 Regularization\n",
            "Number of Epoch = 1 - Average Cross Entropy:= 5070.731428571428, Accuracy:= 100.0\n",
            "Number of Epoch = 2 - Average Cross Entropy:= 18.52819642857143, Accuracy:= 99.95\n",
            "Number of Epoch = 3 - Average Cross Entropy:= 14.27875892857143, Accuracy:= 99.8\n",
            "Number of Epoch = 4 - Average Cross Entropy:= 14.278792410714285, Accuracy:= 99.8\n",
            "Number of Epoch = 5 - Average Cross Entropy:= 14.278791294642858, Accuracy:= 99.9\n",
            "Number of Epoch = 6 - Average Cross Entropy:= 14.278829241071428, Accuracy:= 99.75\n",
            "Number of Epoch = 7 - Average Cross Entropy:= 14.278822544642857, Accuracy:= 99.9\n",
            "Number of Epoch = 8 - Average Cross Entropy:= 14.278822544642857, Accuracy:= 99.85\n",
            "Number of Epoch = 9 - Average Cross Entropy:= 14.2788125, Accuracy:= 99.85\n",
            "Number of Epoch = 10 - Average Cross Entropy:= 14.278808035714286, Accuracy:= 99.85\n",
            "\n",
            "Total time taken (in seconds): 1713.58\n"
          ]
        }
      ]
    },
    {
      "cell_type": "code",
      "source": [
        "# Initialize model using CPU FMNIST Data with L1 regularization\n",
        "\n",
        "mlp_on_cpu = MLP(size_input, size_hidden1, size_hidden2, size_hidden3, size_output, device='cpu')\n",
        "\n",
        "time_start = time.time()\n",
        "acc_fmnist_cpu=[]\n",
        "for epoch in range(NUM_EPOCHS):\n",
        "  loss_total = tf.zeros([1,1], dtype=tf.float32)\n",
        "  lt = 0\n",
        "  accuracy_fmnist_cpu=0\n",
        "  train_ds_fmnist = tf.data.Dataset.from_tensor_slices((Xtrain_fmnist, ytrain_fmnist)).shuffle(25, seed=epoch*(seed)).batch(20)\n",
        "  for inputs, outputs in train_ds_fmnist:\n",
        "    preds = mlp_on_cpu.forward(inputs)\n",
        "    loss_total = loss_total + mlp_on_cpu.loss(preds, outputs)\n",
        "    lt = lt + mlp_on_cpu.loss(preds, outputs)\n",
        "    mlp_on_cpu.backward(inputs, outputs)\n",
        "    accuracy_fmnist_cpu=mlp_on_cpu.cat_accuracy(preds, outputs)\n",
        "  acc_fmnist_cpu.append(np.sum(loss_total) / Xtrain_fmnist.shape[0])\n",
        "  print('Number of Epoch = {} - Average Cross Entropy:= {}, Accuracy:= {}'.format(epoch + 1, np.sum(loss_total) / Xtrain_fmnist.shape[0], (100-(np.abs(np.sum(np.abs(accuracy_fmnist_cpu)))/accuracy_fmnist_cpu.shape[0]))))\n",
        "time_taken = time.time() - time_start\n",
        "\n",
        "print('\\nTotal time taken (in seconds): {:.2f}'.format(time_taken))\n",
        "#For per epoch_time = Total_Time / Number_of_epochs"
      ],
      "metadata": {
        "colab": {
          "base_uri": "https://localhost:8080/"
        },
        "id": "9IS8_NhjnICH",
        "outputId": "c9f2e6e3-52ef-47e3-e746-3ef43e5efe6e"
      },
      "execution_count": 14,
      "outputs": [
        {
          "output_type": "stream",
          "name": "stdout",
          "text": [
            "Number of Epoch = 1 - Average Cross Entropy:= 5084.497714285714, Accuracy:= 99.85\n",
            "Number of Epoch = 2 - Average Cross Entropy:= 18.948245535714285, Accuracy:= 99.9\n",
            "Number of Epoch = 3 - Average Cross Entropy:= 14.278693080357144, Accuracy:= 99.85\n",
            "Number of Epoch = 4 - Average Cross Entropy:= 14.278678571428571, Accuracy:= 99.8\n",
            "Number of Epoch = 5 - Average Cross Entropy:= 14.278678571428571, Accuracy:= 99.95\n",
            "Number of Epoch = 6 - Average Cross Entropy:= 14.278678571428571, Accuracy:= 99.85\n",
            "Number of Epoch = 7 - Average Cross Entropy:= 14.278690848214286, Accuracy:= 99.95\n",
            "Number of Epoch = 8 - Average Cross Entropy:= 14.278690848214286, Accuracy:= 100.0\n",
            "Number of Epoch = 9 - Average Cross Entropy:= 14.278690848214286, Accuracy:= 99.95\n",
            "Number of Epoch = 10 - Average Cross Entropy:= 14.278690848214286, Accuracy:= 99.9\n",
            "\n",
            "Total time taken (in seconds): 1333.40\n"
          ]
        }
      ]
    },
    {
      "cell_type": "code",
      "source": [
        "# Initialize model using CPU FMNIST Data with L1 regularization\n",
        "\n",
        "mlp_on_gpu = MLP(size_input, size_hidden1, size_hidden2, size_hidden3, size_output, device='gpu')\n",
        "\n",
        "time_start = time.time()\n",
        "acc_fmnist_gpu=[]\n",
        "for epoch in range(NUM_EPOCHS):\n",
        "  loss_total = tf.zeros([1,1], dtype=tf.float32)\n",
        "  lt = 0\n",
        "  accuracy_fmnist_gpu=0\n",
        "  train_ds_fmnist = tf.data.Dataset.from_tensor_slices((Xtrain_fmnist, ytrain_fmnist)).shuffle(25, seed=epoch*(seed)).batch(20)\n",
        "  for inputs, outputs in train_ds_fmnist:\n",
        "    preds = mlp_on_gpu.forward(inputs)\n",
        "    loss_total = loss_total + mlp_on_gpu.loss(preds, outputs)\n",
        "    lt = lt + mlp_on_gpu.loss(preds, outputs)\n",
        "    mlp_on_gpu.backward(inputs, outputs)\n",
        "    accuracy_fmnist_cpu=mlp_on_gpu.cat_accuracy(preds, outputs)\n",
        "  acc_fmnist_gpu.append(np.sum(loss_total) / Xtrain_fmnist.shape[0])\n",
        "  print('Number of Epoch = {} - Average Cross Entropy:= {}, Accuracy:= {}'.format(epoch + 1, np.sum(loss_total) / Xtrain_fmnist.shape[0], (100-(np.abs(np.sum(np.abs(accuracy_fmnist_gpu)))/accuracy_fmnist_gpu.shape[0]))))\n",
        "time_taken = time.time() - time_start\n",
        "\n",
        "print('\\nTotal time taken (in seconds): {:.2f}'.format(time_taken))\n",
        "#For per epoch_time = Total_Time / Number_of_epochs"
      ],
      "metadata": {
        "id": "rs9gY0E3nIEM"
      },
      "execution_count": null,
      "outputs": []
    },
    {
      "cell_type": "code",
      "source": [
        "# Initialize model using CPU FMNIST Data with L1 regularization\n",
        "\n",
        "mlp_on_tpu = MLP(size_input, size_hidden1, size_hidden2, size_hidden3, size_output, device='tpu')\n",
        "\n",
        "time_start = time.time()\n",
        "acc_fmnist_tpu=[]\n",
        "for epoch in range(NUM_EPOCHS):\n",
        "  loss_total = tf.zeros([1,1], dtype=tf.float32)\n",
        "  lt = 0\n",
        "  accuracy_fmnist_tpu=0\n",
        "  train_ds_fmnist = tf.data.Dataset.from_tensor_slices((Xtrain_fmnist, ytrain_fmnist)).shuffle(25, seed=epoch*(seed)).batch(20)\n",
        "  for inputs, outputs in train_ds_fmnist:\n",
        "    preds = mlp_on_tpu.forward(inputs)\n",
        "    loss_total = loss_total + mlp_on_tpu.loss(preds, outputs)\n",
        "    lt = lt + mlp_on_tpu.loss(preds, outputs)\n",
        "    mlp_on_tpu.backward(inputs, outputs)\n",
        "    accuracy_fmnist_tpu=mlp_on_tpu.cat_accuracy(preds, outputs)\n",
        "  acc_fmnist_tpu.append(np.sum(loss_total) / Xtrain_fmnist.shape[0])\n",
        "  print('Number of Epoch = {} - Average Cross Entropy:= {}, Accuracy:= {}'.format(epoch + 1, np.sum(loss_total) / Xtrain_fmnist.shape[0], (100-(np.abs(np.sum(np.abs(accuracy_fmnist_tpu)))/accuracy_fmnist_tpu.shape[0]))))\n",
        "time_taken = time.time() - time_start\n",
        "\n",
        "print('\\nTotal time taken (in seconds): {:.2f}'.format(time_taken))\n",
        "#For per epoch_time = Total_Time / Number_of_epochs"
      ],
      "metadata": {
        "colab": {
          "base_uri": "https://localhost:8080/"
        },
        "id": "s8gpMWaenIGY",
        "outputId": "81cc9956-dab2-4733-aac2-9bc4866370c7"
      },
      "execution_count": 15,
      "outputs": [
        {
          "output_type": "stream",
          "name": "stdout",
          "text": [
            "Number of Epoch = 1 - Average Cross Entropy:= 5071.617142857142, Accuracy:= 99.95\n",
            "Number of Epoch = 2 - Average Cross Entropy:= 18.821868303571428, Accuracy:= 99.85\n",
            "Number of Epoch = 3 - Average Cross Entropy:= 14.278353794642857, Accuracy:= 99.95\n",
            "Number of Epoch = 4 - Average Cross Entropy:= 14.278410714285714, Accuracy:= 99.8\n",
            "Number of Epoch = 5 - Average Cross Entropy:= 14.278410714285714, Accuracy:= 99.95\n",
            "Number of Epoch = 6 - Average Cross Entropy:= 14.278409598214285, Accuracy:= 99.85\n",
            "Number of Epoch = 7 - Average Cross Entropy:= 14.278410714285714, Accuracy:= 99.95\n",
            "Number of Epoch = 8 - Average Cross Entropy:= 14.278410714285714, Accuracy:= 99.8\n",
            "Number of Epoch = 9 - Average Cross Entropy:= 14.278410714285714, Accuracy:= 99.95\n",
            "Number of Epoch = 10 - Average Cross Entropy:= 14.278411830357143, Accuracy:= 99.9\n",
            "\n",
            "Total time taken (in seconds): 1356.76\n"
          ]
        }
      ]
    },
    {
      "cell_type": "code",
      "source": [
        "#Default mode FMNIST Data Default\n",
        "\n",
        "mlp_on_default = MLP(size_input, size_hidden1, size_hidden2, size_hidden3, size_output)\n",
        "acc_fmnist_default=[]\n",
        "time_start = time.time()\n",
        "for epoch in range(NUM_EPOCHS):\n",
        "  loss_total_gpu = tf.zeros([1,1], dtype=tf.float32)\n",
        "  lt = 0\n",
        "  accuracy_fmnist_default=0\n",
        "  train_ds_fmnist = tf.data.Dataset.from_tensor_slices((Xtrain_fmnist, ytrain_fmnist)).shuffle(25, seed=epoch*(seed)).batch(20)\n",
        "  for inputs, outputs in train_ds_fmnist:\n",
        "    preds = mlp_on_default.forward(inputs)\n",
        "    loss_total_gpu = loss_total_gpu + mlp_on_default.loss(preds, outputs)\n",
        "    lt = lt + mlp_on_default.loss(preds, outputs)\n",
        "    mlp_on_default.backward(inputs, outputs)\n",
        "    accuracy_fmnist_default=mlp_on_cpu.cat_accuracy(preds, outputs)\n",
        "  acc_fmnist_default.append(np.sum(loss_total) / X_train.shape[0])\n",
        "  print('Number of Epoch = {} - Average Cross Entropy:= {}, Accuracy:= {}'.format(epoch + 1, np.sum(loss_total) / Xtrain_fmnist.shape[0], (100-(np.abs(np.sum(np.abs(accuracy_fmnist_default)))/accuracy_fmnist_default.shape[0]))))\n",
        "time_taken = time.time() - time_start\n",
        "\n",
        "print('\\nTotal time taken (in seconds): {:.2f}'.format(time_taken))"
      ],
      "metadata": {
        "colab": {
          "base_uri": "https://localhost:8080/"
        },
        "id": "6v0uV_IVnILz",
        "outputId": "a7c71ae8-f427-410a-fb2e-f2580796504f"
      },
      "execution_count": 16,
      "outputs": [
        {
          "output_type": "stream",
          "name": "stdout",
          "text": [
            "Number of Epoch = 1 - Average Cross Entropy:= 14.278411830357143, Accuracy:= 99.85\n",
            "Number of Epoch = 2 - Average Cross Entropy:= 14.278411830357143, Accuracy:= 99.95\n",
            "Number of Epoch = 3 - Average Cross Entropy:= 14.278411830357143, Accuracy:= 99.9\n",
            "Number of Epoch = 4 - Average Cross Entropy:= 14.278411830357143, Accuracy:= 99.9\n",
            "Number of Epoch = 5 - Average Cross Entropy:= 14.278411830357143, Accuracy:= 99.95\n",
            "Number of Epoch = 6 - Average Cross Entropy:= 14.278411830357143, Accuracy:= 99.85\n",
            "Number of Epoch = 7 - Average Cross Entropy:= 14.278411830357143, Accuracy:= 99.85\n",
            "Number of Epoch = 8 - Average Cross Entropy:= 14.278411830357143, Accuracy:= 99.85\n",
            "Number of Epoch = 9 - Average Cross Entropy:= 14.278411830357143, Accuracy:= 99.9\n",
            "Number of Epoch = 10 - Average Cross Entropy:= 14.278411830357143, Accuracy:= 99.9\n",
            "\n",
            "Total time taken (in seconds): 1299.65\n"
          ]
        }
      ]
    },
    {
      "cell_type": "markdown",
      "metadata": {
        "id": "PXe-2MENCOjq"
      },
      "source": [
        "## One Step Inference"
      ]
    },
    {
      "cell_type": "code",
      "metadata": {
        "id": "EKxWn7CNDVN5",
        "colab": {
          "base_uri": "https://localhost:8080/"
        },
        "outputId": "eda24cef-9e05-4f59-8a5d-54617c0002ce"
      },
      "source": [
        "test_loss_total = tf.Variable(0, dtype=tf.float32)\n",
        "#test_loss_total = 0.0\n",
        "for inputs, outputs in test_ds:\n",
        "  preds = mlp_on_cpu.forward(inputs)\n",
        "  #b = mlp_on_default.loss(preds, outputs)\n",
        "  test_loss_total = test_loss_total + mlp_on_cpu.loss(preds, outputs)\n",
        "# a = (test_loss_total.numpy() / X_train.shape[0])\n",
        "# print(X_train.shape[0])\n",
        "# print(test_loss_total.numpy())\n",
        "# print(b)\n",
        "print('Test MSE: {:.4f}'.format(np.sum(test_loss_total.numpy()) / X_train.shape[0]))"
      ],
      "execution_count": 17,
      "outputs": [
        {
          "output_type": "stream",
          "name": "stdout",
          "text": [
            "Test MSE: 8.9170\n"
          ]
        }
      ]
    },
    {
      "cell_type": "code",
      "source": [
        "# Initialize\n",
        "from numpy import sqrt\n",
        "test_loss_total = tf.Variable(0, dtype=tf.float32)\n",
        "acc_preds = tf.Variable(0,dtype=tf.float32)\n",
        "acc = tf.Variable(0, dtype=tf.float32)\n",
        "\n",
        "# Calculate\n",
        "for inputs, outputs in test_ds:\n",
        "\n",
        "  preds = mlp_on_cpu.forward(inputs) # Prediction\n",
        "  test_loss_total = test_loss_total + mlp_on_cpu.loss(preds,outputs) # Loss\n",
        "  standard_error = mlp_on_cpu.stderr(preds) # Standard error\n",
        "  Variance = mlp_on_cpu.var(preds) # Variance\n",
        "\n",
        "  for i in range(preds.shape[0]):\n",
        "    if tf.argmax(preds[i])==tf.argmax(outputs[i]):\n",
        "      acc_preds = acc_preds + 1.0\n",
        "acc = (acc_preds/X_test.shape[0])*100.0\n",
        "print('Inference 1st')\n",
        "print('Test MSE: {:.4f}'.format(np.sum(test_loss_total.numpy())/X_train.shape[0]))\n",
        "print('Accuracy: {:.4f}'.format(acc))\n",
        "print('Standard Error: {:.4f}'.format(standard_error))\n",
        "print('Variance: {:.4f}'.format(Variance))"
      ],
      "metadata": {
        "colab": {
          "base_uri": "https://localhost:8080/"
        },
        "id": "Mds2Y2SPqcbO",
        "outputId": "6ba469ae-5e20-4d79-f1af-0fc309ea28f3"
      },
      "execution_count": 18,
      "outputs": [
        {
          "output_type": "stream",
          "name": "stdout",
          "text": [
            "Inference 1st\n",
            "Test MSE: 8.9170\n",
            "Accuracy: 10.0286\n",
            "Standard Error: 0.0003\n",
            "Variance: 0.0000\n"
          ]
        }
      ]
    },
    {
      "cell_type": "code",
      "source": [
        "# Initialize\n",
        "from numpy import sqrt\n",
        "test_loss_total = tf.Variable(0, dtype=tf.float32)\n",
        "acc_preds = tf.Variable(0,dtype=tf.float32)\n",
        "acc = tf.Variable(0, dtype=tf.float32)\n",
        "\n",
        "# Calculate\n",
        "for inputs, outputs in test_ds_fmnist:\n",
        "\n",
        "  preds = mlp_on_cpu.forward(inputs) # Prediction\n",
        "  test_loss_total = test_loss_total + mlp_on_cpu.loss(preds,outputs) # Loss\n",
        "  standard_error = mlp_on_cpu.stderr(preds) # Standard error\n",
        "  Variance = mlp_on_cpu.var(preds) # Variance\n",
        "\n",
        "  for i in range(preds.shape[0]):\n",
        "    if tf.argmax(preds[i])==tf.argmax(outputs[i]):\n",
        "      acc_preds = acc_preds + 1.0\n",
        "acc = (acc_preds/Xtest_fmnist.shape[0])*100.0\n",
        "print('Inference 1st')\n",
        "print('Test MSE: {:.4f}'.format(np.sum(test_loss_total.numpy())/Xtrain_fmnist.shape[0]))\n",
        "print('Accuracy: {:.4f}'.format(acc))\n",
        "print('Standard Error: {:.4f}'.format(standard_error))\n",
        "print('Variance: {:.4f}'.format(Variance))"
      ],
      "metadata": {
        "colab": {
          "base_uri": "https://localhost:8080/"
        },
        "id": "emWCTwGyrDZt",
        "outputId": "c5bc13f1-fe54-4d03-a605-728c1c37c13a"
      },
      "execution_count": 19,
      "outputs": [
        {
          "output_type": "stream",
          "name": "stdout",
          "text": [
            "Inference 1st\n",
            "Test MSE: 8.9170\n",
            "Accuracy: 10.0571\n",
            "Standard Error: 0.0003\n",
            "Variance: 0.0000\n"
          ]
        }
      ]
    },
    {
      "cell_type": "code",
      "source": [
        "# Plot learning curve (with errors)\n",
        "import matplotlib.pyplot as plt\n",
        "%matplotlib inline\n",
        "iterations = [1,2,3,4,5,6,7,8,9,10]\n",
        "errors = np.squeeze(acc_mnist)\n",
        "# errors_gpu = np.squeeze(acc_mnist_gpu)\n",
        "errors_tpu = np.squeeze(acc_mnist_tpu)\n",
        "errors_default = np.squeeze(acc_mnist_default)\n",
        "plt.plot(iterations,errors,label='MNIST L1')\n",
        "# plt.plot(iterations,errors_gpu,label='MNIST L1 GPU')\n",
        "plt.plot(iterations,errors_tpu,label='Fashion MNIST TPU')\n",
        "plt.plot(iterations,errors_default,label='Fashion MNIST Default')\n",
        "plt.ylabel('errors')\n",
        "plt.xlabel('iterations ')\n",
        "plt.title(\"MNIST L1 Regularization\")\n",
        "plt.legend()\n",
        "plt.show()"
      ],
      "metadata": {
        "colab": {
          "base_uri": "https://localhost:8080/",
          "height": 295
        },
        "id": "1Hit0DOGHj-Q",
        "outputId": "4f0b4444-168c-43a8-ff9e-99c6abf721c1"
      },
      "execution_count": 19,
      "outputs": [
        {
          "output_type": "display_data",
          "data": {
            "image/png": "[encoded data removed]",
            "text/plain": [
              "<Figure size 432x288 with 1 Axes>"
            ]
          },
          "metadata": {
            "needs_background": "light"
          }
        }
      ]
    },
    {
      "cell_type": "code",
      "source": [
        "# Plot learning curve (with errors)\n",
        "import matplotlib.pyplot as plt\n",
        "%matplotlib inline\n",
        "iterations = [1,2,3,4,5,6,7,8,9,10]\n",
        "errors = np.squeeze(acc_fmnist_cpu)\n",
        "# errors_gpu = np.squeeze(acc_mnist_gpu)\n",
        "errors_tpu = np.squeeze(acc_fmnist_tpu)\n",
        "errors_default = np.squeeze(acc_fmnist_default)\n",
        "plt.plot(iterations,errors,label='MNIST L1')\n",
        "# plt.plot(iterations,errors_gpu,label='MNIST L1 GPU')\n",
        "plt.plot(iterations,errors_tpu,label='Fashion MNIST TPU')\n",
        "plt.plot(iterations,errors_default,label='Fashion MNIST Default')\n",
        "plt.ylabel('errors')\n",
        "plt.xlabel('iterations ')\n",
        "plt.title(\"Fashion MNIST L1 Regularization\")\n",
        "plt.legend()\n",
        "plt.show()"
      ],
      "metadata": {
        "colab": {
          "base_uri": "https://localhost:8080/",
          "height": 295
        },
        "id": "GJkWlHFyN66l",
        "outputId": "926bfb81-8364-4965-9c1a-7b1b3dee6acf"
      },
      "execution_count": 22,
      "outputs": [
        {
          "output_type": "display_data",
          "data": {
            "image/png": "[encoded data removed]",
            "text/plain": [
              "<Figure size 432x288 with 1 Axes>"
            ]
          },
          "metadata": {
            "needs_background": "light"
          }
        }
      ]
    },
    {
      "cell_type": "code",
      "source": [
        ""
      ],
      "metadata": {
        "id": "oRaIKypyer_q"
      },
      "execution_count": null,
      "outputs": []
    }
  ]
}