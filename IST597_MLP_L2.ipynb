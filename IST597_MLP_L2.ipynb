{
  "nbformat": 4,
  "nbformat_minor": 0,
  "metadata": {
    "colab": {
      "name": "IST597_MLP_L2.ipynb",
      "provenance": [],
      "collapsed_sections": []
    },
    "kernelspec": {
      "name": "python3",
      "display_name": "Python 3"
    },
    "language_info": {
      "name": "python"
    }
  },
  "cells": [
    {
      "cell_type": "code",
      "execution_count": 1,
      "metadata": {
        "id": "7GZztyVMoA4N"
      },
      "outputs": [],
      "source": [
        "import os\n",
        "import numpy as np\n",
        "from sklearn.metrics import roc_auc_score, accuracy_score\n",
        "import keras\n",
        "import time\n",
        "import math\n",
        "import tensorflow as tf\n",
        "import torch.nn as nn\n",
        "from keras.datasets import fashion_mnist\n",
        "from numpy import sqrt\n",
        "\n",
        "seed=97238684\n",
        "np.random.seed(seed)\n",
        "tf.random.set_seed(seed)\n",
        "# np.random.seed(1234)\n",
        "# tf.random.set_seed(1234)\n",
        "from sklearn.model_selection import train_test_split"
      ]
    },
    {
      "cell_type": "code",
      "source": [
        "tf.config.list_physical_devices('GPU')"
      ],
      "metadata": {
        "colab": {
          "base_uri": "https://localhost:8080/"
        },
        "id": "OrXO2LGOoJnJ",
        "outputId": "42fdf042-824b-417d-a084-adc57d28859e"
      },
      "execution_count": 2,
      "outputs": [
        {
          "output_type": "execute_result",
          "data": {
            "text/plain": [
              "[]"
            ]
          },
          "metadata": {},
          "execution_count": 2
        }
      ]
    },
    {
      "cell_type": "code",
      "source": [
        "size_input = 784\n",
        "size_hidden1 = 512\n",
        "size_hidden2 = 256\n",
        "size_hidden3 = 128\n",
        "size_output = 10\n",
        "starter_learning_rate = 0.001\n",
        "regularizer_rate = 0.1"
      ],
      "metadata": {
        "id": "jdToYFeKoJq9"
      },
      "execution_count": 3,
      "outputs": []
    },
    {
      "cell_type": "code",
      "source": [
        "train_ratio = 0.80\n",
        "validation_ratio = 0.10\n",
        "test_ratio = 0.10\n",
        "\n",
        "(X_train, y_train), (X_test, y_test) = tf.keras.datasets.mnist.load_data()\n",
        "X = np.concatenate([X_train, X_test])\n",
        "y = np.concatenate([y_train, y_test])\n",
        "\n",
        "X_train, X_val, y_train, y_val = train_test_split(X, y, test_size=(1-train_ratio))\n",
        "X_val, X_test, y_val, y_test = train_test_split(X_val, y_val, test_size=((test_ratio/(validation_ratio+test_ratio))))\n",
        "\n",
        "X_train.shape"
      ],
      "metadata": {
        "colab": {
          "base_uri": "https://localhost:8080/"
        },
        "id": "G8hoineEoJtB",
        "outputId": "9a401eac-7f2b-47cb-f5a2-2d515a2c1bc2"
      },
      "execution_count": 4,
      "outputs": [
        {
          "output_type": "stream",
          "name": "stdout",
          "text": [
            "Downloading data from https://storage.googleapis.com/tensorflow/tf-keras-datasets/mnist.npz\n",
            "11493376/11490434 [==============================] - 0s 0us/step\n",
            "11501568/11490434 [==============================] - 0s 0us/step\n"
          ]
        },
        {
          "output_type": "execute_result",
          "data": {
            "text/plain": [
              "(56000, 28, 28)"
            ]
          },
          "metadata": {},
          "execution_count": 4
        }
      ]
    },
    {
      "cell_type": "code",
      "source": [
        "(Xtrain_fmnist, ytrain_fmnist), (Xtest_fmnist, ytest_fmnist) = fashion_mnist.load_data()\n",
        "X_fmnist = np.concatenate([Xtrain_fmnist, Xtest_fmnist])\n",
        "y_fmnist = np.concatenate([ytrain_fmnist, ytest_fmnist])\n",
        "\n",
        "Xtrain_fmnist, X_val_fmnist, ytrain_fmnist, y_val_fmnist = train_test_split(X_fmnist, y_fmnist, test_size=(1-train_ratio))\n",
        "X_val_fmnist, Xtest_fmnist, y_val_fmnist, ytest_fmnist = train_test_split(X_val_fmnist, y_val_fmnist, test_size=((test_ratio/(validation_ratio+test_ratio))))"
      ],
      "metadata": {
        "colab": {
          "base_uri": "https://localhost:8080/"
        },
        "id": "pBdQrCNQoJuy",
        "outputId": "eea2c8d2-84b9-4ca4-f7ea-4c66e4c168a2"
      },
      "execution_count": 5,
      "outputs": [
        {
          "output_type": "stream",
          "name": "stdout",
          "text": [
            "Downloading data from https://storage.googleapis.com/tensorflow/tf-keras-datasets/train-labels-idx1-ubyte.gz\n",
            "32768/29515 [=================================] - 0s 0us/step\n",
            "40960/29515 [=========================================] - 0s 0us/step\n",
            "Downloading data from https://storage.googleapis.com/tensorflow/tf-keras-datasets/train-images-idx3-ubyte.gz\n",
            "26427392/26421880 [==============================] - 1s 0us/step\n",
            "26435584/26421880 [==============================] - 1s 0us/step\n",
            "Downloading data from https://storage.googleapis.com/tensorflow/tf-keras-datasets/t10k-labels-idx1-ubyte.gz\n",
            "16384/5148 [===============================================================================================] - 0s 0us/step\n",
            "Downloading data from https://storage.googleapis.com/tensorflow/tf-keras-datasets/t10k-images-idx3-ubyte.gz\n",
            "4423680/4422102 [==============================] - 0s 0us/step\n",
            "4431872/4422102 [==============================] - 0s 0us/step\n"
          ]
        }
      ]
    },
    {
      "cell_type": "code",
      "source": [
        "\n",
        "# (X_train, y_train), (X_test, y_test) = fashion_mnist.load_data()\n",
        "X_train = np.reshape(X_train, (56000, 784))\n",
        "X_test = np.reshape(X_test, (-1, 784))\n",
        "X_train = X_train.astype(float) / 255\n",
        "X_test = X_test.astype(float) / 255\n",
        "X_val = np.reshape(X_val, (7000,784))\n",
        "X_val=X_val/255.0\n",
        "X_val=tf.cast(X_val,dtype=tf.float32)\n",
        "y_train = tf.one_hot(y_train,10)\n",
        "y_test = tf.one_hot(y_test,10)"
      ],
      "metadata": {
        "id": "TpF7XnXEoJwq"
      },
      "execution_count": 6,
      "outputs": []
    },
    {
      "cell_type": "code",
      "source": [
        "Xtrain_fmnist = np.reshape(X_train, (56000, 784))\n",
        "Xtest_fmnist = np.reshape(X_test, (-1, 784))\n",
        "Xtrain_fmnist = Xtrain_fmnist.astype(float) / 255\n",
        "Xtest_fmnist = Xtest_fmnist.astype(float) / 255\n",
        "X_val_fmnist = np.reshape(X_val_fmnist, (7000,784))\n",
        "X_val_fmnist=X_val_fmnist.astype(float) /255.0\n",
        "ytrain_fmnist = tf.one_hot(ytrain_fmnist,10)\n",
        "ytest_fmnist = tf.one_hot(ytest_fmnist,10)"
      ],
      "metadata": {
        "id": "S32jhgm1oJys"
      },
      "execution_count": 7,
      "outputs": []
    },
    {
      "cell_type": "code",
      "source": [
        "print(X_train.shape, y_train.shape)\n",
        "print(Xtrain_fmnist.shape, ytrain_fmnist.shape)"
      ],
      "metadata": {
        "colab": {
          "base_uri": "https://localhost:8080/"
        },
        "id": "xJAU1cySoJ0z",
        "outputId": "9de1255a-627a-4c4f-8d31-662e09fd2389"
      },
      "execution_count": 8,
      "outputs": [
        {
          "output_type": "stream",
          "name": "stdout",
          "text": [
            "(56000, 784) (56000, 10)\n",
            "(56000, 784) (56000, 10)\n"
          ]
        }
      ]
    },
    {
      "cell_type": "code",
      "source": [
        "# Split MNIST dataset into batches\n",
        "train_ds = tf.data.Dataset.from_tensor_slices((X_train, y_train)).batch(16)\n",
        "test_ds = tf.data.Dataset.from_tensor_slices((X_test, y_test)).batch(4)\n",
        "val_ds = tf.data.Dataset.from_tensor_slices((X_val, y_val)).batch(2)"
      ],
      "metadata": {
        "id": "y8jRjfDQoJ2n"
      },
      "execution_count": 9,
      "outputs": []
    },
    {
      "cell_type": "code",
      "source": [
        "# Split FMNIST dataset into batches\n",
        "train_ds_fmnist = tf.data.Dataset.from_tensor_slices((Xtrain_fmnist, ytrain_fmnist)).batch(16)\n",
        "test_ds_fmnist = tf.data.Dataset.from_tensor_slices((Xtest_fmnist, ytest_fmnist)).batch(4)\n",
        "val_ds_fmnist = tf.data.Dataset.from_tensor_slices((X_val_fmnist, y_val_fmnist)).batch(2)"
      ],
      "metadata": {
        "id": "6DL6Qw_soJ4b"
      },
      "execution_count": 10,
      "outputs": []
    },
    {
      "cell_type": "code",
      "source": [
        "# Define class to build mlp model\n",
        "class MLP(object):\n",
        "  def __init__(self, size_input, size_hidden1, size_hidden2, size_hidden3, size_output, device=None):\n",
        "    \"\"\"\n",
        "    size_input: int, size of input layer\n",
        "    size_hidden: int, size of hidden layer\n",
        "    size_output: int, size of output layer\n",
        "    device: str or None, either 'cpu' or 'gpu' or None. If None, the device to be used will be decided automatically during Eager Execution\n",
        "    \"\"\"\n",
        "    self.size_input, self.size_hidden1, self.size_hidden2, self.size_hidden3, self.size_output, self.device =\\\n",
        "    size_input, size_hidden1, size_hidden2, size_hidden3, size_output, device\n",
        "    \n",
        "    # Initialize weights between input layer and hidden layer\n",
        "    self.W1 = tf.Variable(tf.random.normal([self.size_input, self.size_hidden1]))\n",
        "    self.W_h1 = tf.Variable(tf.random.normal([self.size_hidden1, self.size_hidden2]))\n",
        "    # Initialize biases for hidden layer\n",
        "    self.b1 = tf.Variable(tf.random.normal([1, self.size_hidden1]))\n",
        "     # Initialize weights between hidden layer and output layer\n",
        "    self.W_h2 = tf.Variable(tf.random.normal([self.size_hidden2, self.size_hidden3]))\n",
        "    self.W2 = tf.Variable(tf.random.normal([self.size_hidden3, self.size_output]))\n",
        "    # Initialize biases for output layer\n",
        "    self.b2 = tf.Variable(tf.random.normal([1, self.size_hidden2]))\n",
        "    self.b3 = tf.Variable(tf.random.normal([1, self.size_hidden3]))\n",
        "    self.b4 = tf.Variable(tf.random.normal([1, self.size_output]))\n",
        "    # Define variables to be updated during backpropagation\n",
        "    self.variables = [self.W1, self.W_h1, self.W_h2, self.W2, self.b1, self.b2, self.b3, self.b4]\n",
        "    \n",
        "  def forward(self, X):\n",
        "    \"\"\"\n",
        "    forward pass\n",
        "    X: Tensor, inputs\n",
        "    \"\"\"\n",
        "    if self.device is not None:\n",
        "      with tf.device('gpu:0' if self.device=='gpu' else 'cpu'):\n",
        "        self.y = self.compute_output(X)\n",
        "    else:\n",
        "      self.y = self.compute_output(X)\n",
        "      \n",
        "    return self.y\n",
        "  \n",
        "  def loss(self, y_pred, y_true):\n",
        "    '''\n",
        "    y_pred - Tensor of shape (batch_size, size_output)\n",
        "    y_true - Tensor of shape (batch_size, size_output)\n",
        "    '''\n",
        "    y_true_tf = tf.cast(tf.reshape(y_true, (-1, self.size_output)), dtype=tf.float32)\n",
        "    y_pred_tf = tf.cast(y_pred, dtype=tf.float32)\n",
        "    loss = tf.reduce_mean(tf.nn.softmax_cross_entropy_with_logits(logits=y_pred,labels=y_true)) + \\\n",
        "        0.05 * (tf.reduce_sum(tf.square(self.W1)) + tf.reduce_sum(tf.square(self.W_h1)) + tf.reduce_sum(tf.square(self.W_h2))+tf.reduce_sum(tf.square(self.W2)))\n",
        "    return loss\n",
        "  \n",
        "  def backward(self, X_train, y_train):\n",
        "    \"\"\"\n",
        "    backward pass\n",
        "    \"\"\"\n",
        "    optimizer = tf.keras.optimizers.Adam(\n",
        "    learning_rate=0.001, beta_1=0.9, beta_2=0.999, epsilon=1e-07, amsgrad=False,\n",
        "    name='Adam')\n",
        "    with tf.GradientTape() as tape:\n",
        "      predicted = self.forward(X_train)\n",
        "      current_loss = self.loss(predicted, y_train)\n",
        "    grads = tape.gradient(current_loss, self.variables)\n",
        "    optimizer.apply_gradients(zip(grads, self.variables))\n",
        "        \n",
        "        \n",
        "  def compute_output(self, X):\n",
        "    \"\"\"\n",
        "    Custom method to obtain output tensor during forward pass\n",
        "    \"\"\"\n",
        "    # Cast X to float32\n",
        "    X_tf = tf.cast(X, dtype=tf.float32)\n",
        "    # Compute values in hidden layer\n",
        "    what_i = tf.matmul(X_tf, self.W1) + self.b1\n",
        "    hhat_i = tf.nn.relu(what_i)\n",
        "    what_h1 = tf.matmul(hhat_i, self.W_h1) + self.b2\n",
        "    hhat_h1 = tf.nn.relu(what_h1)\n",
        "    what_h2 = tf.matmul(hhat_h1, self.W_h2) + self.b3\n",
        "    hhat_h2 = tf.nn.relu(what_h2)\n",
        "\n",
        "    \n",
        "    #Now consider two things , First look at inbuild loss functions if they work with softmax or not and then change this\n",
        "    output = tf.matmul(hhat_h2, self.W2) + self.b4\n",
        "    output = tf.nn.softmax(output)\n",
        "    #Second add tf.Softmax(output) and then return this variable\n",
        "    return output\n",
        "\n",
        "  # Calculate standard error\n",
        "  def stderr(self,y_pred):\n",
        "    y_pred_tf = tf.cast(y_pred, dtype=tf.float32)\n",
        "    std_dev = np.std(y_pred_tf) #Calculates standard deviation\n",
        "    std_err = std_dev/sqrt(len(y_pred_tf))\n",
        "    return std_err \n",
        "\n",
        " # Calculate variance error\n",
        "  def var(self,y_pred):\n",
        "    y_pred_tf = tf.cast(y_pred, dtype=tf.float32)\n",
        "    std_dev = np.std(y_pred_tf) #Calculates standard deviation\n",
        "    variance = (std_dev**2) # calculate variance\n",
        "    return variance \n",
        "    \n"
      ],
      "metadata": {
        "id": "n7_pNFPhobfU"
      },
      "execution_count": 11,
      "outputs": []
    },
    {
      "cell_type": "code",
      "source": [
        "# Set number of epochs\n",
        "NUM_EPOCHS = 10"
      ],
      "metadata": {
        "id": "vuMabvoeobhY"
      },
      "execution_count": 12,
      "outputs": []
    },
    {
      "cell_type": "code",
      "source": [
        "# Initialize model using GPU MNIST Data on train data with L2 Regularization\n",
        "\n",
        "mlp_on_gpu = MLP(size_input, size_hidden1, size_hidden2, size_hidden3, size_output, device='gpu')\n",
        "print(\"model using CPU MNIST Data with L2 Regularization on Train data\")\n",
        "time_start = time.time()\n",
        "acc_mnist_train=[]\n",
        "acc_mnist_test=[]\n",
        "for epoch in range(NUM_EPOCHS):\n",
        "  loss_total = tf.zeros([1,1], dtype=tf.float32)\n",
        "  lt = 0\n",
        "  accuracy_train=0\n",
        "  train_ds = tf.data.Dataset.from_tensor_slices((X_train, y_train)).shuffle(25, seed=epoch*(seed)).batch(100)\n",
        "  for inputs, outputs in train_ds:\n",
        "    preds = mlp_on_gpu.forward(inputs)\n",
        "    loss_total = loss_total + mlp_on_gpu.loss(preds, outputs)\n",
        "    lt = lt + mlp_on_gpu.loss(preds, outputs)\n",
        "    mlp_on_gpu.backward(inputs, outputs)\n",
        "    accuracy_train=tf.keras.metrics.CategoricalAccuracy()\n",
        "    accuracy_train.update_state(preds, outputs)\n",
        "  acc_mnist_train.append(np.sum(loss_total) / X_train.shape[0])\n",
        "  print('Number of Epoch = {} - Average Cross Entropy:= {}, Accuracy:= {}'.format(epoch + 1, np.sum(loss_total) / X_train.shape[0], accuracy_train.result()*100))\n",
        "time_taken = time.time() - time_start\n",
        "\n",
        "print('\\nTotal time taken (in seconds): {:.2f}'.format(time_taken))\n",
        "#For per epoch_time = Total_Time / Number_of_epochs"
      ],
      "metadata": {
        "colab": {
          "base_uri": "https://localhost:8080/"
        },
        "id": "PhkojmPEoblC",
        "outputId": "73396aee-ce90-4102-9ca8-c32925ee851f"
      },
      "execution_count": 13,
      "outputs": [
        {
          "output_type": "stream",
          "name": "stdout",
          "text": [
            "model using CPU MNIST Data with L2 Regularization on Train data\n",
            "Number of Epoch = 1 - Average Cross Entropy:= 184.05689285714286, Accuracy:= 20.0\n",
            "Number of Epoch = 2 - Average Cross Entropy:= 63.95336607142857, Accuracy:= 18.0\n",
            "Number of Epoch = 3 - Average Cross Entropy:= 18.226675223214286, Accuracy:= 38.0\n",
            "Number of Epoch = 4 - Average Cross Entropy:= 4.204849888392857, Accuracy:= 36.0\n",
            "Number of Epoch = 5 - Average Cross Entropy:= 0.7933843470982143, Accuracy:= 38.0\n",
            "Number of Epoch = 6 - Average Cross Entropy:= 0.13624119349888392, Accuracy:= 20.0\n",
            "Number of Epoch = 7 - Average Cross Entropy:= 0.03639561462402344, Accuracy:= 9.0\n",
            "Number of Epoch = 8 - Average Cross Entropy:= 0.023883714948381696, Accuracy:= 12.0\n",
            "Number of Epoch = 9 - Average Cross Entropy:= 0.023085865565708706, Accuracy:= 12.0\n",
            "Number of Epoch = 10 - Average Cross Entropy:= 0.023083969116210936, Accuracy:= 13.0\n",
            "\n",
            "Total time taken (in seconds): 545.99\n"
          ]
        }
      ]
    },
    {
      "cell_type": "code",
      "source": [
        "# Initialize model using GPU MNIST Data with L2 Regularization on Test data\n",
        "\n",
        "mlp_on_gpu = MLP(size_input, size_hidden1, size_hidden2, size_hidden3, size_output, device='gpu')\n",
        "print(\"model using GPU MNIST Data with L2 Regularization on Test data\")\n",
        "time_start = time.time()\n",
        "acc_mnist_test=[]\n",
        "for epoch in range(NUM_EPOCHS):\n",
        "  loss_total = tf.zeros([1,1], dtype=tf.float32)\n",
        "  lt = 0\n",
        "  accuracy_test=0\n",
        "  train_ds = tf.data.Dataset.from_tensor_slices((X_test, y_test)).shuffle(25, seed=epoch*(seed)).batch(100)\n",
        "  for inputs, outputs in test_ds:\n",
        "    preds = mlp_on_gpu.forward(inputs)\n",
        "    loss_total = loss_total + mlp_on_gpu.loss(preds, outputs)\n",
        "    lt = lt + mlp_on_gpu.loss(preds, outputs)\n",
        "    mlp_on_gpu.backward(inputs, outputs)\n",
        "    accuracy_test=tf.keras.metrics.CategoricalAccuracy()\n",
        "    accuracy_test.update_state(preds, outputs)\n",
        "  acc_mnist_test.append(np.sum(loss_total) / X_test.shape[0])\n",
        "  print('Number of Epoch = {} - Average Cross Entropy:= {}, Accuracy:= {}'.format(epoch + 1, np.sum(loss_total) / X_test.shape[0], accuracy_test.result()*100))\n",
        "time_taken = time.time() - time_start\n",
        "\n",
        "print('\\nTotal time taken (in seconds): {:.2f}'.format(time_taken))\n",
        "#For per epoch_time = Total_Time / Number_of_epochs"
      ],
      "metadata": {
        "colab": {
          "base_uri": "https://localhost:8080/"
        },
        "id": "oRI8kT-uobou",
        "outputId": "a09ce3de-2801-4edb-980a-fa8826fe20d6"
      },
      "execution_count": 14,
      "outputs": [
        {
          "output_type": "stream",
          "name": "stdout",
          "text": [
            "model using GPU MNIST Data with L2 Regularization on Test data\n",
            "Number of Epoch = 1 - Average Cross Entropy:= 2127.4792857142857, Accuracy:= 25.0\n",
            "Number of Epoch = 2 - Average Cross Entropy:= 32.90479464285714, Accuracy:= 0.0\n",
            "Number of Epoch = 3 - Average Cross Entropy:= 0.66845703125, Accuracy:= 0.0\n",
            "Number of Epoch = 4 - Average Cross Entropy:= 0.60757568359375, Accuracy:= 0.0\n",
            "Number of Epoch = 5 - Average Cross Entropy:= 0.6065343191964285, Accuracy:= 0.0\n",
            "Number of Epoch = 6 - Average Cross Entropy:= 0.60666162109375, Accuracy:= 0.0\n",
            "Number of Epoch = 7 - Average Cross Entropy:= 0.6092276088169643, Accuracy:= 0.0\n",
            "Number of Epoch = 8 - Average Cross Entropy:= 0.6145818917410715, Accuracy:= 0.0\n",
            "Number of Epoch = 9 - Average Cross Entropy:= 0.6224784458705357, Accuracy:= 0.0\n",
            "Number of Epoch = 10 - Average Cross Entropy:= 0.6323868582589286, Accuracy:= 0.0\n",
            "\n",
            "Total time taken (in seconds): 1319.27\n"
          ]
        }
      ]
    },
    {
      "cell_type": "code",
      "source": [
        "# Initialize model using GPU MNIST Data with L2 Regularization on Test data\n",
        "\n",
        "mlp_on_tpu = MLP(size_input, size_hidden1, size_hidden2, size_hidden3, size_output, device='tpu')\n",
        "print(\"model using GPU MNIST Datawith L2 Regularization on Test data\")\n",
        "time_start = time.time()\n",
        "acc_mnist_test_tpu=[]\n",
        "for epoch in range(NUM_EPOCHS):\n",
        "  loss_total = tf.zeros([1,1], dtype=tf.float32)\n",
        "  lt = 0\n",
        "  accuracy_test_tpu=0\n",
        "  train_ds = tf.data.Dataset.from_tensor_slices((X_test, y_test)).shuffle(25, seed=epoch*(seed)).batch(100)\n",
        "  for inputs, outputs in test_ds:\n",
        "    preds = mlp_on_tpu.forward(inputs)\n",
        "    loss_total = loss_total + mlp_on_tpu.loss(preds, outputs)\n",
        "    lt = lt + mlp_on_tpu.loss(preds, outputs)\n",
        "    mlp_on_tpu.backward(inputs, outputs)\n",
        "    accuracy_test_tpu=tf.keras.metrics.CategoricalAccuracy()\n",
        "    accuracy_test_tpu.update_state(preds, outputs)\n",
        "  acc_mnist_test_tpu.append(np.sum(loss_total) / X_test.shape[0])\n",
        "  print('Number of Epoch = {} - Average Cross Entropy:= {}, Accuracy:= {}'.format(epoch + 1, np.sum(loss_total) / X_test.shape[0], accuracy_test_tpu.result()*100))\n",
        "time_taken = time.time() - time_start\n",
        "\n",
        "print('\\nTotal time taken (in seconds): {:.2f}'.format(time_taken))\n",
        "#For per epoch_time = Total_Time / Number_of_epochs"
      ],
      "metadata": {
        "colab": {
          "base_uri": "https://localhost:8080/"
        },
        "id": "jBAIXdmBouxJ",
        "outputId": "dff2317c-a6b8-4714-b26c-7818017efc9b"
      },
      "execution_count": 15,
      "outputs": [
        {
          "output_type": "stream",
          "name": "stdout",
          "text": [
            "model using GPU MNIST Datawith L2 Regularization on Test data\n",
            "Number of Epoch = 1 - Average Cross Entropy:= 2125.1464285714287, Accuracy:= 50.0\n",
            "Number of Epoch = 2 - Average Cross Entropy:= 32.44912946428571, Accuracy:= 0.0\n",
            "Number of Epoch = 3 - Average Cross Entropy:= 0.6886623883928571, Accuracy:= 0.0\n",
            "Number of Epoch = 4 - Average Cross Entropy:= 0.6495966796875, Accuracy:= 0.0\n",
            "Number of Epoch = 5 - Average Cross Entropy:= 0.6462724609375, Accuracy:= 0.0\n",
            "Number of Epoch = 6 - Average Cross Entropy:= 0.6404568219866071, Accuracy:= 0.0\n",
            "Number of Epoch = 7 - Average Cross Entropy:= 0.6327266322544642, Accuracy:= 0.0\n",
            "Number of Epoch = 8 - Average Cross Entropy:= 0.6243298688616071, Accuracy:= 0.0\n",
            "Number of Epoch = 9 - Average Cross Entropy:= 0.6175239955357142, Accuracy:= 0.0\n",
            "Number of Epoch = 10 - Average Cross Entropy:= 0.6139757952008928, Accuracy:= 0.0\n",
            "\n",
            "Total time taken (in seconds): 938.83\n"
          ]
        }
      ]
    },
    {
      "cell_type": "code",
      "source": [
        "# Initialize model using GPU Fashion MNIST Data with L2 Regularization on train data\n",
        "\n",
        "mlp_on_gpu = MLP(size_input, size_hidden1, size_hidden2, size_hidden3, size_output, device='gpu')\n",
        "print(\"model using GPU Fashion MNIST Data with L2 Regularization on Train data\")\n",
        "time_start = time.time()\n",
        "acc_fmnist_train=[]\n",
        "for epoch in range(NUM_EPOCHS):\n",
        "  loss_total = tf.zeros([1,1], dtype=tf.float32)\n",
        "  lt = 0\n",
        "  accu_train_fmnist=0\n",
        "  train_ds_fmnist = tf.data.Dataset.from_tensor_slices((Xtrain_fmnist, ytrain_fmnist)).shuffle(25, seed=epoch*(seed)).batch(100)\n",
        "  for inputs, outputs in train_ds_fmnist:\n",
        "    preds = mlp_on_gpu.forward(inputs)\n",
        "    loss_total = loss_total + mlp_on_gpu.loss(preds, outputs)\n",
        "    lt = lt + mlp_on_gpu.loss(preds, outputs)\n",
        "    mlp_on_gpu.backward(inputs, outputs)\n",
        "    accu_train_fmnist=tf.keras.metrics.CategoricalAccuracy()\n",
        "    accu_train_fmnist.update_state(preds, outputs)\n",
        "  acc_fmnist_train.append(np.sum(loss_total) / X_train.shape[0])\n",
        "  print('Number of Epoch = {} - Average Cross Entropy:= {}, Accuracy:= {}'.format(epoch + 1, np.sum(loss_total) / Xtrain_fmnist.shape[0], accu_train_fmnist.result()*100))\n",
        "time_taken = time.time() - time_start\n",
        "\n",
        "print('\\nTotal time taken (in seconds): {:.2f}'.format(time_taken))\n",
        "#For per epoch_time = Total_Time / Number_of_epochs"
      ],
      "metadata": {
        "colab": {
          "base_uri": "https://localhost:8080/"
        },
        "id": "wC9VeUExouzG",
        "outputId": "4b4838ba-bd25-4871-de51-eb4de20b4562"
      },
      "execution_count": 16,
      "outputs": [
        {
          "output_type": "stream",
          "name": "stdout",
          "text": [
            "model using GPU Fashion MNIST Data with L2 Regularization on Train data\n",
            "Number of Epoch = 1 - Average Cross Entropy:= 183.60144642857142, Accuracy:= 13.0\n",
            "Number of Epoch = 2 - Average Cross Entropy:= 63.528982142857146, Accuracy:= 11.0\n",
            "Number of Epoch = 3 - Average Cross Entropy:= 17.97938169642857, Accuracy:= 7.0\n",
            "Number of Epoch = 4 - Average Cross Entropy:= 4.084857979910714, Accuracy:= 8.0\n",
            "Number of Epoch = 5 - Average Cross Entropy:= 0.7367564174107143, Accuracy:= 12.0\n",
            "Number of Epoch = 6 - Average Cross Entropy:= 0.11875917271205357, Accuracy:= 7.0\n",
            "Number of Epoch = 7 - Average Cross Entropy:= 0.032946607317243304, Accuracy:= 13.0\n",
            "Number of Epoch = 8 - Average Cross Entropy:= 0.02390386962890625, Accuracy:= 12.0\n",
            "Number of Epoch = 9 - Average Cross Entropy:= 0.023112335205078126, Accuracy:= 12.0\n",
            "Number of Epoch = 10 - Average Cross Entropy:= 0.023103142874581473, Accuracy:= 14.0\n",
            "\n",
            "Total time taken (in seconds): 385.17\n"
          ]
        }
      ]
    },
    {
      "cell_type": "code",
      "source": [
        "# Initialize model using GPU Fashion MNIST Data with L2 Regularization on test data\n",
        "\n",
        "mlp_on_gpu = MLP(size_input, size_hidden1, size_hidden2, size_hidden3, size_output, device='gpu')\n",
        "print(\"model using TPU Fashion MNIST Data with L2 Regularization on Test data\")\n",
        "time_start = time.time()\n",
        "\n",
        "acc_fmnist_test=[]\n",
        "for epoch in range(NUM_EPOCHS):\n",
        "  loss_total = tf.zeros([1,1], dtype=tf.float32)\n",
        "  lt = 0\n",
        "  accu_test_fmnist=0\n",
        "  test_ds_fmnist = tf.data.Dataset.from_tensor_slices((Xtest_fmnist, ytest_fmnist)).shuffle(25, seed=epoch*(seed)).batch(100)\n",
        "  for inputs, outputs in test_ds_fmnist:\n",
        "    preds = mlp_on_gpu.forward(inputs)\n",
        "    loss_total = loss_total + mlp_on_gpu.loss(preds, outputs)\n",
        "    lt = lt + mlp_on_gpu.loss(preds, outputs)\n",
        "    mlp_on_gpu.backward(inputs, outputs)\n",
        "    accu_test_fmnist=tf.keras.metrics.CategoricalAccuracy()\n",
        "    accu_test_fmnist.update_state(preds, outputs)\n",
        "  acc_fmnist_test.append(np.sum(loss_total) / Xtest_fmnist.shape[0])\n",
        "  print('Number of Epoch = {} - Average Cross Entropy:= {}, Accuracy:= {}'.format(epoch + 1, np.sum(loss_total) / Xtest_fmnist.shape[0], accu_test_fmnist.result()*100))\n",
        "time_taken = time.time() - time_start\n",
        "\n",
        "print('\\nTotal time taken (in seconds): {:.2f}'.format(time_taken))\n",
        "#For per epoch_time = Total_Time / Number_of_epochs"
      ],
      "metadata": {
        "colab": {
          "base_uri": "https://localhost:8080/"
        },
        "id": "QjXaJmTC20dQ",
        "outputId": "c9cc50d3-705b-4164-aada-94d32209ea13"
      },
      "execution_count": 22,
      "outputs": [
        {
          "output_type": "stream",
          "name": "stdout",
          "text": [
            "model using TPU Fashion MNIST Data with L2 Regularization on Test data\n",
            "Number of Epoch = 1 - Average Cross Entropy:= 267.72423214285715, Accuracy:= 14.0\n",
            "Number of Epoch = 2 - Average Cross Entropy:= 238.77214285714285, Accuracy:= 13.0\n",
            "Number of Epoch = 3 - Average Cross Entropy:= 212.36605357142858, Accuracy:= 14.0\n",
            "Number of Epoch = 4 - Average Cross Entropy:= 188.35248214285716, Accuracy:= 12.0\n",
            "Number of Epoch = 5 - Average Cross Entropy:= 166.58, Accuracy:= 5.0\n",
            "Number of Epoch = 6 - Average Cross Entropy:= 146.89827678571427, Accuracy:= 5.0\n",
            "Number of Epoch = 7 - Average Cross Entropy:= 129.16173214285715, Accuracy:= 5.0\n",
            "Number of Epoch = 8 - Average Cross Entropy:= 113.22891071428572, Accuracy:= 5.0\n",
            "Number of Epoch = 9 - Average Cross Entropy:= 98.96152678571428, Accuracy:= 6.0\n",
            "Number of Epoch = 10 - Average Cross Entropy:= 86.22683928571429, Accuracy:= 6.0\n",
            "\n",
            "Total time taken (in seconds): 48.60\n"
          ]
        }
      ]
    },
    {
      "cell_type": "code",
      "source": [
        "# Initialize model using GPU Fashion MNIST Data with L2 Regularization on test data\n",
        "\n",
        "mlp_on_tpu = MLP(size_input, size_hidden1, size_hidden2, size_hidden3, size_output, device='tpu')\n",
        "print(\"model using TPU Fashion MNIST Data with L2 Regularization on Test data\")\n",
        "time_start = time.time()\n",
        "\n",
        "acc_fmnist_test_tpu=[]\n",
        "for epoch in range(NUM_EPOCHS):\n",
        "  loss_total = tf.zeros([1,1], dtype=tf.float32)\n",
        "  lt = 0\n",
        "  accu_test_fmnist=0\n",
        "  test_ds_fmnist = tf.data.Dataset.from_tensor_slices((Xtest_fmnist, ytest_fmnist)).shuffle(25, seed=epoch*(seed)).batch(100)\n",
        "  for inputs, outputs in test_ds_fmnist:\n",
        "    preds = mlp_on_tpu.forward(inputs)\n",
        "    loss_total = loss_total + mlp_on_tpu.loss(preds, outputs)\n",
        "    lt = lt + mlp_on_tpu.loss(preds, outputs)\n",
        "    mlp_on_tpu.backward(inputs, outputs)\n",
        "    accu_test_fmnist=tf.keras.metrics.CategoricalAccuracy()\n",
        "    accu_test_fmnist.update_state(preds, outputs)\n",
        "  acc_fmnist_test_tpu.append(np.sum(loss_total) / Xtest_fmnist.shape[0])\n",
        "  print('Number of Epoch = {} - Average Cross Entropy:= {}, Accuracy:= {}'.format(epoch + 1, np.sum(loss_total) / Xtest_fmnist.shape[0], accu_test_fmnist.result()*100))\n",
        "time_taken = time.time() - time_start\n",
        "\n",
        "print('\\nTotal time taken (in seconds): {:.2f}'.format(time_taken))\n",
        "#For per epoch_time = Total_Time / Number_of_epochs"
      ],
      "metadata": {
        "colab": {
          "base_uri": "https://localhost:8080/"
        },
        "id": "f44zFyCCou04",
        "outputId": "5cabb518-e02b-44ef-9568-1174d6bb9e9c"
      },
      "execution_count": 18,
      "outputs": [
        {
          "output_type": "stream",
          "name": "stdout",
          "text": [
            "model using TPU Fashion MNIST Data with L2 Regularization on Test data\n",
            "Number of Epoch = 1 - Average Cross Entropy:= 269.28823214285717, Accuracy:= 11.0\n",
            "Number of Epoch = 2 - Average Cross Entropy:= 240.23723214285715, Accuracy:= 10.0\n",
            "Number of Epoch = 3 - Average Cross Entropy:= 213.731375, Accuracy:= 12.0\n",
            "Number of Epoch = 4 - Average Cross Entropy:= 189.61810714285716, Accuracy:= 12.0\n",
            "Number of Epoch = 5 - Average Cross Entropy:= 167.74667857142856, Accuracy:= 13.0\n",
            "Number of Epoch = 6 - Average Cross Entropy:= 147.96861607142858, Accuracy:= 11.0\n",
            "Number of Epoch = 7 - Average Cross Entropy:= 130.13799107142856, Accuracy:= 12.0\n",
            "Number of Epoch = 8 - Average Cross Entropy:= 114.11228571428572, Accuracy:= 10.0\n",
            "Number of Epoch = 9 - Average Cross Entropy:= 99.75502678571429, Accuracy:= 12.0\n",
            "Number of Epoch = 10 - Average Cross Entropy:= 86.93463392857143, Accuracy:= 10.0\n",
            "\n",
            "Total time taken (in seconds): 48.27\n"
          ]
        }
      ]
    },
    {
      "cell_type": "code",
      "source": [
        "test_loss_total = tf.Variable(0, dtype=tf.float32)\n",
        "acc_preds = tf.Variable(0,dtype=tf.float32)\n",
        "for inputs, outputs in test_ds:\n",
        "  preds = mlp_on_gpu.forward(inputs)\n",
        "  # print(preds)\n",
        "  b = mlp_on_gpu.loss(preds, outputs)\n",
        "  standard_error = mlp_on_gpu.stderr(preds) \n",
        "  test_loss_total = test_loss_total + mlp_on_gpu.loss(preds, outputs)\n",
        "  Variance = mlp_on_gpu.var(preds) \n",
        "\n",
        "  for i in range(preds.shape[0]):\n",
        "    if tf.argmax(preds[i])==tf.argmax(outputs[i]):\n",
        "      acc_preds = acc_preds + 1.0\n",
        "acc = (acc_preds/X_test.shape[0])*100.0\n",
        "print('Inference for Test Data with L2 Regularization')\n",
        "print('Test MSE: {:.4f}'.format(np.sum(test_loss_total.numpy())/X_train.shape[0]))\n",
        "print('Accuracy: {:.4f}'.format(acc))\n",
        "print('Standard Error: {:.4f}'.format(standard_error))\n",
        "print('Variance: {:.4f}'.format(Variance))\n",
        "\n",
        "print('Test MSE: {:.4f}'.format(np.sum(test_loss_total.numpy()) / X_train.shape[0]))"
      ],
      "metadata": {
        "colab": {
          "base_uri": "https://localhost:8080/"
        },
        "id": "srL__hTRo0gq",
        "outputId": "dfa13162-96be-4aa1-fae3-f5eae49ac079"
      },
      "execution_count": 23,
      "outputs": [
        {
          "output_type": "stream",
          "name": "stdout",
          "text": [
            "Inference for Test Data with L2 Regularization\n",
            "Test MSE: 250.8078\n",
            "Accuracy: 8.9571\n",
            "Standard Error: 0.1500\n",
            "Variance: 0.0900\n",
            "Test MSE: 250.8078\n"
          ]
        }
      ]
    },
    {
      "cell_type": "code",
      "source": [
        "# Plot learning curve (with errors)\n",
        "import matplotlib.pyplot as plt\n",
        "%matplotlib inline\n",
        "iterations = [1,2,3,4,5,6,7,8,9,10]\n",
        "errors_train = np.squeeze(acc_mnist_train)\n",
        "errors_test = np.squeeze(acc_mnist_test)\n",
        "errors_train1 = np.squeeze(acc_fmnist_train)\n",
        "errors_test1 = np.squeeze(acc_fmnist_test)\n",
        "errors_test2 = np.squeeze(acc_fmnist_test_tpu)\n",
        "plt.plot(iterations,errors_train,label='MNIST Train with L2 Regularization')\n",
        "plt.plot(iterations,errors_test,label='MNIST Test with L2 Regularization ')\n",
        "plt.plot(iterations,errors_train1,label='Fashion MNIST train with L2 Regularization ')\n",
        "plt.plot(iterations,errors_test1,label='Fashion MNIST test with L2 Regularization')\n",
        "# plt.plot(iterations,errors_test2,label='Fashion MNIST test with L2 Regularization TPU')\n",
        "plt.ylabel('errors')\n",
        "plt.xlabel('iterations ')\n",
        "plt.title(\"MNIST and Fashion MNIST with L2 Regularization\")\n",
        "plt.legend()\n",
        "plt.show()"
      ],
      "metadata": {
        "colab": {
          "base_uri": "https://localhost:8080/",
          "height": 295
        },
        "id": "MOqz9drWo0i4",
        "outputId": "493f5519-23c4-493e-fc44-9c5b98b1bba5"
      },
      "execution_count": 26,
      "outputs": [
        {
          "output_type": "display_data",
          "data": {
            "image/png": "[encoded data removed]",
            "text/plain": [
              "<Figure size 432x288 with 1 Axes>"
            ]
          },
          "metadata": {
            "needs_background": "light"
          }
        }
      ]
    },
    {
      "cell_type": "code",
      "source": [
        ""
      ],
      "metadata": {
        "id": "RdIbTmUto0o4"
      },
      "execution_count": null,
      "outputs": []
    }
  ]
}